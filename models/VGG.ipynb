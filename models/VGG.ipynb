{
 "cells": [
  {
   "cell_type": "markdown",
   "id": "4b2a7c3e-c203-4734-9f89-1df72e269ec8",
   "metadata": {},
   "source": [
    "## VGG Models"
   ]
  },
  {
   "cell_type": "code",
   "execution_count": 25,
   "id": "caed9acf-3fa2-4298-8439-44f0c1d0cc8d",
   "metadata": {},
   "outputs": [],
   "source": [
    "import torch\n",
    "import torch.nn as nn\n",
    "from torch.utils.data import Dataset, DataLoader, random_split\n",
    "import numpy as np\n",
    "import matplotlib.pyplot as plt\n",
    "import torchvision\n",
    "import torch.optim as optim"
   ]
  },
  {
   "cell_type": "code",
   "execution_count": 13,
   "id": "f72cc2f8-de98-4be3-8828-4afd2e4d5136",
   "metadata": {},
   "outputs": [
    {
     "name": "stdout",
     "output_type": "stream",
     "text": [
      "using device: cuda\n"
     ]
    }
   ],
   "source": [
    "USE_GPU = True\n",
    "\n",
    "if USE_GPU and torch.cuda.is_available():\n",
    "    device = torch.device('cuda')\n",
    "else:\n",
    "    device = torch.device('cpu')\n",
    "\n",
    "print('using device:', device)"
   ]
  },
  {
   "cell_type": "markdown",
   "id": "a1b4fc9d-a9e2-45c8-9dc5-99ba3e13c165",
   "metadata": {},
   "source": [
    "### Data Preparation"
   ]
  },
  {
   "cell_type": "code",
   "execution_count": 14,
   "id": "3dd6aabe-681f-447a-8b9e-b3993bc93449",
   "metadata": {},
   "outputs": [],
   "source": [
    "class VehicleDataset(Dataset):\n",
    "    \n",
    "    def __init__(self, path):\n",
    "        data = np.load(path)\n",
    "        self.images = data[\"images\"]\n",
    "        self.labels = data[\"labels\"]\n",
    "        print(\"Images shape:\", self.images.shape)\n",
    "        print(\"Labels shape:\", self.labels.shape)\n",
    "\n",
    "    def __len__(self):\n",
    "        return len(self.images)\n",
    "\n",
    "    def __getitem__(self, idx):\n",
    "        image = self.images[idx]\n",
    "        label = self.labels[idx]\n",
    "\n",
    "        image = torch.tensor(image, dtype=torch.float32).permute(2, 0, 1) / 255.0\n",
    "        label = torch.tensor(label, dtype=torch.long)\n",
    "        \n",
    "        return image, label"
   ]
  },
  {
   "cell_type": "code",
   "execution_count": null,
   "id": "d6c6ca5b-c047-421b-b0c0-a6555f88b332",
   "metadata": {},
   "outputs": [
    {
     "name": "stdout",
     "output_type": "stream",
     "text": [
      "Images shape: (17760, 64, 64, 3)\n",
      "Labels shape: (17760,)\n"
     ]
    }
   ],
   "source": [
    "dataset = VehicleDataset('../dataset/vehicle_detection_dataset.npz')\n",
    "\n",
    "batch_size = 32\n",
    "train_size = int(0.7 * len(dataset))\n",
    "val_size = int(0.2 * len(dataset))\n",
    "test_size = int(0.1 * len(dataset))\n",
    "\n",
    "train_dataset, val_dataset, test_dataset = random_split(dataset, [train_size, val_size, test_size])\n",
    "\n",
    "train_loader = DataLoader(train_dataset, batch_size=batch_size, shuffle=True)\n",
    "val_loader = DataLoader(val_dataset, batch_size=batch_size, shuffle=False)\n",
    "test_loader = DataLoader(test_dataset, batch_size=batch_size, shuffle=False)"
   ]
  },
  {
   "cell_type": "markdown",
   "id": "0a24f84c-ad48-4270-b0a5-3d9a37ba56d5",
   "metadata": {},
   "source": [
    "### VGG Models"
   ]
  },
  {
   "cell_type": "code",
   "execution_count": 20,
   "id": "03c64be2-5004-40eb-8cd6-d3b2f3078bbc",
   "metadata": {},
   "outputs": [],
   "source": [
    "class BasicBlock(nn.Module):\n",
    "    def __init__(self, in_channels, out_channels):\n",
    "        super(BasicBlock, self).__init__()\n",
    "        self.conv = nn.Conv2d(in_channels, out_channels, kernel_size=3, padding=1, bias=False)\n",
    "        self.relu = nn.ReLU(inplace=True)\n",
    "    def forward(self, x):\n",
    "        x = self.conv(x)\n",
    "        x = self.relu(x)\n",
    "        return x"
   ]
  },
  {
   "cell_type": "code",
   "execution_count": 28,
   "id": "bac973ea-b151-4502-ab75-0a3dec6a8987",
   "metadata": {},
   "outputs": [],
   "source": [
    "class VGG11(nn.Module):\n",
    "    def __init__(self):\n",
    "        super(VGG11, self).__init__()\n",
    "        self.layer1 = BasicBlock(3, 64)\n",
    "        self.maxpool1 = nn.MaxPool2d(kernel_size=2, stride=2)\n",
    "        self.layer2 = BasicBlock(64, 128)\n",
    "        self.maxpool2 = nn.MaxPool2d(kernel_size=2, stride=2)\n",
    "        self.layer3 = BasicBlock(128, 256)\n",
    "        self.layer4 = BasicBlock(256, 256)\n",
    "        self.maxpool3 = nn.MaxPool2d(kernel_size=2, stride=2)\n",
    "        self.layer5 = BasicBlock(256, 512)\n",
    "        self.layer6 = BasicBlock(512, 512)\n",
    "        self.maxpool4 = nn.MaxPool2d(kernel_size=2, stride=2)\n",
    "        self.layer7 = BasicBlock(512, 512)\n",
    "        self.layer8 = BasicBlock(512, 512)\n",
    "        self.maxpool5 = nn.MaxPool2d(kernel_size=2, stride=2)\n",
    "        self.classifier = nn.Sequential(\n",
    "            nn.Linear(512 * 2 * 2, 4096),\n",
    "            nn.ReLU(),\n",
    "            nn.Linear(4096, 4096),\n",
    "            nn.ReLU(),\n",
    "            nn.Linear(4096, 1)\n",
    "        )\n",
    "    def forward(self, x):\n",
    "        x = self.layer1(x)\n",
    "        x = self.maxpool1(x)\n",
    "        x = self.layer2(x)\n",
    "        x = self.maxpool2(x)\n",
    "        x = self.layer3(x)\n",
    "        x = self.layer4(x)\n",
    "        x = self.maxpool3(x)\n",
    "        x = self.layer5(x)\n",
    "        x = self.layer6(x)\n",
    "        x = self.maxpool4(x)\n",
    "        x = self.layer7(x)\n",
    "        x = self.layer8(x)\n",
    "        x = self.maxpool5(x)\n",
    "        x = x.view(x.size(0), -1)\n",
    "        x = self.classifier(x)\n",
    "        return x"
   ]
  },
  {
   "cell_type": "markdown",
   "id": "af90e79d-5f40-4fe7-ba45-325d04f6f5fa",
   "metadata": {},
   "source": [
    "### Training"
   ]
  },
  {
   "cell_type": "code",
   "execution_count": 40,
   "id": "fea74392-4514-4d84-bfc6-c97526b9e260",
   "metadata": {},
   "outputs": [
    {
     "name": "stdout",
     "output_type": "stream",
     "text": [
      "Epoch 1/5 - Loss: 0.5200 - Accuracy: 0.8158\n",
      "Validation Acc: 0.9037\n",
      "Epoch 2/5 - Loss: 0.3265 - Accuracy: 0.8983\n",
      "Validation Acc: 0.8449\n",
      "Epoch 3/5 - Loss: 0.2243 - Accuracy: 0.9158\n",
      "Validation Acc: 0.9578\n",
      "Epoch 4/5 - Loss: 0.1546 - Accuracy: 0.9570\n",
      "Validation Acc: 0.6498\n",
      "Epoch 5/5 - Loss: 0.1810 - Accuracy: 0.9344\n",
      "Validation Acc: 0.9507\n"
     ]
    }
   ],
   "source": [
    "model = VGG11().to(device)\n",
    "criterion = nn.BCEWithLogitsLoss()\n",
    "optimizer = optim.Adam(model.parameters(), lr=1e-3)\n",
    "\n",
    "# Training loop\n",
    "num_epochs = 5\n",
    "for epoch in range(num_epochs):\n",
    "    model.train()\n",
    "    running_loss = 0.0\n",
    "    correct = 0\n",
    "    total = 0\n",
    "    \n",
    "    for images, labels in train_loader:\n",
    "        images = images.to(device)\n",
    "        labels = labels.to(device).float().unsqueeze(1)  # Shape: (batch_size, 1)\n",
    "\n",
    "        # Forward\n",
    "        outputs = model(images)\n",
    "        loss = criterion(outputs, labels.float())\n",
    "\n",
    "        # Backward\n",
    "        optimizer.zero_grad()\n",
    "        loss.backward()\n",
    "        optimizer.step()\n",
    "\n",
    "        # Metrics\n",
    "        running_loss += loss.item() * images.size(0)\n",
    "        preds = torch.sigmoid(outputs) > 0.5  # convert logits to binary\n",
    "        correct += (preds.float() == labels).sum().item()\n",
    "        total += labels.size(0)\n",
    "\n",
    "    epoch_loss = running_loss / total\n",
    "    epoch_acc = correct / total\n",
    "\n",
    "    print(f\"Epoch {epoch+1}/{num_epochs} - Loss: {epoch_loss:.4f} - Accuracy: {epoch_acc:.4f}\")\n",
    "    \n",
    "    model.eval()\n",
    "    correct = 0\n",
    "    total = 0\n",
    "    with torch.no_grad():\n",
    "        for images, labels in val_loader:\n",
    "            images, labels = images.to(device), labels.to(device).float().unsqueeze(1)\n",
    "            outputs = model(images)\n",
    "            preds = torch.sigmoid(outputs) > 0.5\n",
    "            correct += (preds == labels).sum().item()\n",
    "            total += labels.size(0)\n",
    "    val_acc = correct / total\n",
    "    print(f'Validation Acc: {val_acc:.4f}')"
   ]
  },
  {
   "cell_type": "markdown",
   "id": "e52b1566-1bfc-4582-8144-dde6825d350d",
   "metadata": {},
   "source": [
    "### Testing"
   ]
  },
  {
   "cell_type": "code",
   "execution_count": 41,
   "id": "d1fed680-c356-4df1-9a07-0658bfbbe5c0",
   "metadata": {},
   "outputs": [],
   "source": [
    "def test_model(model, test_loader, device):\n",
    "    model.eval()  # Set model to evaluation mode\n",
    "    correct = 0\n",
    "    total = 0\n",
    "\n",
    "    all_preds = []\n",
    "    all_labels = []\n",
    "\n",
    "    with torch.no_grad():\n",
    "        for images, labels in test_loader:\n",
    "            images, labels = images.to(device), labels.to(device).float().unsqueeze(1)\n",
    "            outputs = model(images)\n",
    "            preds = torch.sigmoid(outputs) > 0.5  # Threshold at 0.5\n",
    "\n",
    "            correct += (preds == labels).sum().item()\n",
    "            total += labels.size(0)\n",
    "\n",
    "            all_preds.append(preds.cpu())\n",
    "            all_labels.append(labels.cpu())\n",
    "\n",
    "    accuracy = correct / total\n",
    "    print(f'Test Accuracy: {accuracy:.4f}')\n",
    "\n",
    "    # Concatenate all predictions and labels if needed for further analysis\n",
    "    all_preds = torch.cat(all_preds)\n",
    "    all_labels = torch.cat(all_labels)\n",
    "    \n",
    "    return accuracy, all_preds, all_labels"
   ]
  },
  {
   "cell_type": "code",
   "execution_count": 42,
   "id": "1360631b-7a2f-4c08-b5b7-513e1a8caf80",
   "metadata": {},
   "outputs": [
    {
     "name": "stdout",
     "output_type": "stream",
     "text": [
      "Test Accuracy: 0.9476\n"
     ]
    },
    {
     "data": {
      "text/plain": [
       "(0.9476351351351351,\n",
       " tensor([[ True],\n",
       "         [ True],\n",
       "         [False],\n",
       "         ...,\n",
       "         [False],\n",
       "         [ True],\n",
       "         [False]]),\n",
       " tensor([[1.],\n",
       "         [1.],\n",
       "         [0.],\n",
       "         ...,\n",
       "         [0.],\n",
       "         [1.],\n",
       "         [0.]]))"
      ]
     },
     "execution_count": 42,
     "metadata": {},
     "output_type": "execute_result"
    }
   ],
   "source": [
    "test_model(model, test_loader, device)"
   ]
  },
  {
   "cell_type": "code",
   "execution_count": 45,
   "id": "9f39d0b7-88a4-4822-bcfe-feb6738326ca",
   "metadata": {},
   "outputs": [],
   "source": [
    "class VGG13(nn.Module):\n",
    "    def __init__(self):\n",
    "        super(VGG13, self).__init__()\n",
    "        self.layer1 = BasicBlock(3, 64)\n",
    "        self.layer11 = BasicBlock(64, 64)\n",
    "        self.maxpool1 = nn.MaxPool2d(kernel_size=2, stride=2)\n",
    "        self.layer2 = BasicBlock(64, 128)\n",
    "        self.layer22 = BasicBlock(128, 128)\n",
    "        self.maxpool2 = nn.MaxPool2d(kernel_size=2, stride=2)\n",
    "        self.layer3 = BasicBlock(128, 256)\n",
    "        self.layer4 = BasicBlock(256, 256)\n",
    "        self.maxpool3 = nn.MaxPool2d(kernel_size=2, stride=2)\n",
    "        self.layer5 = BasicBlock(256, 512)\n",
    "        self.layer6 = BasicBlock(512, 512)\n",
    "        self.maxpool4 = nn.MaxPool2d(kernel_size=2, stride=2)\n",
    "        self.layer7 = BasicBlock(512, 512)\n",
    "        self.layer8 = BasicBlock(512, 512)\n",
    "        self.maxpool5 = nn.MaxPool2d(kernel_size=2, stride=2)\n",
    "        self.classifier = nn.Sequential(\n",
    "            nn.Linear(512 * 2 * 2, 4096),\n",
    "            nn.ReLU(),\n",
    "            nn.Linear(4096, 4096),\n",
    "            nn.ReLU(),\n",
    "            nn.Linear(4096, 1)\n",
    "        )\n",
    "    def forward(self, x):\n",
    "        x = self.layer1(x)\n",
    "        x = self.layer11(x)\n",
    "        x = self.maxpool1(x)\n",
    "        x = self.layer2(x)\n",
    "        x = self.layer22(x)\n",
    "        x = self.maxpool2(x)\n",
    "        x = self.layer3(x)\n",
    "        x = self.layer4(x)\n",
    "        x = self.maxpool3(x)\n",
    "        x = self.layer5(x)\n",
    "        x = self.layer6(x)\n",
    "        x = self.maxpool4(x)\n",
    "        x = self.layer7(x)\n",
    "        x = self.layer8(x)\n",
    "        x = self.maxpool5(x)\n",
    "        x = x.view(x.size(0), -1)\n",
    "        x = self.classifier(x)\n",
    "        return x"
   ]
  },
  {
   "cell_type": "code",
   "execution_count": 46,
   "id": "f3f7ffe0-d75e-4067-99c9-f7bda9bcb47d",
   "metadata": {},
   "outputs": [
    {
     "name": "stdout",
     "output_type": "stream",
     "text": [
      "Epoch 1/5 - Loss: 0.6067 - Accuracy: 0.6717\n",
      "Validation Acc: 0.8260\n",
      "Epoch 2/5 - Loss: 0.2952 - Accuracy: 0.8718\n",
      "Validation Acc: 0.8843\n",
      "Epoch 3/5 - Loss: 0.3351 - Accuracy: 0.8630\n",
      "Validation Acc: 0.8865\n",
      "Epoch 4/5 - Loss: 0.3055 - Accuracy: 0.8889\n",
      "Validation Acc: 0.9096\n",
      "Epoch 5/5 - Loss: 0.3179 - Accuracy: 0.8830\n",
      "Validation Acc: 0.9060\n"
     ]
    }
   ],
   "source": [
    "model = VGG13().to(device)\n",
    "criterion = nn.BCEWithLogitsLoss()\n",
    "optimizer = optim.Adam(model.parameters(), lr=1e-3)\n",
    "\n",
    "# Training loop\n",
    "num_epochs = 5\n",
    "for epoch in range(num_epochs):\n",
    "    model.train()\n",
    "    running_loss = 0.0\n",
    "    correct = 0\n",
    "    total = 0\n",
    "    \n",
    "    for images, labels in train_loader:\n",
    "        images = images.to(device)\n",
    "        labels = labels.to(device).float().unsqueeze(1)  # Shape: (batch_size, 1)\n",
    "\n",
    "        # Forward\n",
    "        outputs = model(images)\n",
    "        loss = criterion(outputs, labels.float())\n",
    "\n",
    "        # Backward\n",
    "        optimizer.zero_grad()\n",
    "        loss.backward()\n",
    "        optimizer.step()\n",
    "\n",
    "        # Metrics\n",
    "        running_loss += loss.item() * images.size(0)\n",
    "        preds = torch.sigmoid(outputs) > 0.5  # convert logits to binary\n",
    "        correct += (preds.float() == labels).sum().item()\n",
    "        total += labels.size(0)\n",
    "\n",
    "    epoch_loss = running_loss / total\n",
    "    epoch_acc = correct / total\n",
    "\n",
    "    print(f\"Epoch {epoch+1}/{num_epochs} - Loss: {epoch_loss:.4f} - Accuracy: {epoch_acc:.4f}\")\n",
    "    \n",
    "    model.eval()\n",
    "    correct = 0\n",
    "    total = 0\n",
    "    with torch.no_grad():\n",
    "        for images, labels in val_loader:\n",
    "            images, labels = images.to(device), labels.to(device).float().unsqueeze(1)\n",
    "            outputs = model(images)\n",
    "            preds = torch.sigmoid(outputs) > 0.5\n",
    "            correct += (preds == labels).sum().item()\n",
    "            total += labels.size(0)\n",
    "    val_acc = correct / total\n",
    "    print(f'Validation Acc: {val_acc:.4f}')"
   ]
  },
  {
   "cell_type": "code",
   "execution_count": 47,
   "id": "5f6079f5-0f41-4f56-9a8e-25204f70a32f",
   "metadata": {},
   "outputs": [
    {
     "name": "stdout",
     "output_type": "stream",
     "text": [
      "Test Accuracy: 0.9189\n"
     ]
    },
    {
     "data": {
      "text/plain": [
       "(0.918918918918919,\n",
       " tensor([[ True],\n",
       "         [ True],\n",
       "         [False],\n",
       "         ...,\n",
       "         [False],\n",
       "         [ True],\n",
       "         [False]]),\n",
       " tensor([[1.],\n",
       "         [1.],\n",
       "         [0.],\n",
       "         ...,\n",
       "         [0.],\n",
       "         [1.],\n",
       "         [0.]]))"
      ]
     },
     "execution_count": 47,
     "metadata": {},
     "output_type": "execute_result"
    }
   ],
   "source": [
    "test_model(model, test_loader, device)"
   ]
  },
  {
   "cell_type": "code",
   "execution_count": 48,
   "id": "a90fd0c0-a056-4339-9466-18b0bcd2b259",
   "metadata": {},
   "outputs": [],
   "source": [
    "class VGG16(nn.Module):\n",
    "    def __init__(self):\n",
    "        super(VGG16, self).__init__()\n",
    "        self.layer1 = BasicBlock(3, 64)\n",
    "        self.layer11 = BasicBlock(64, 64)\n",
    "        self.maxpool1 = nn.MaxPool2d(kernel_size=2, stride=2)\n",
    "        self.layer2 = BasicBlock(64, 128)\n",
    "        self.layer22 = BasicBlock(128, 128)\n",
    "        self.maxpool2 = nn.MaxPool2d(kernel_size=2, stride=2)\n",
    "        self.layer3 = BasicBlock(128, 256)\n",
    "        self.layer4 = BasicBlock(256, 256)\n",
    "        self.layer41 = BasicBlock(256, 256)\n",
    "        self.maxpool3 = nn.MaxPool2d(kernel_size=2, stride=2)\n",
    "        self.layer5 = BasicBlock(256, 512)\n",
    "        self.layer6 = BasicBlock(512, 512)\n",
    "        self.layer61 = BasicBlock(512, 512)\n",
    "        self.maxpool4 = nn.MaxPool2d(kernel_size=2, stride=2)\n",
    "        self.layer7 = BasicBlock(512, 512)\n",
    "        self.layer8 = BasicBlock(512, 512)\n",
    "        self.layer81 = BasicBlock(512, 512)\n",
    "        self.maxpool5 = nn.MaxPool2d(kernel_size=2, stride=2)\n",
    "        self.classifier = nn.Sequential(\n",
    "            nn.Linear(512 * 2 * 2, 4096),\n",
    "            nn.ReLU(),\n",
    "            nn.Linear(4096, 4096),\n",
    "            nn.ReLU(),\n",
    "            nn.Linear(4096, 1)\n",
    "        )\n",
    "    def forward(self, x):\n",
    "        x = self.layer1(x)\n",
    "        x = self.layer11(x)\n",
    "        x = self.maxpool1(x)\n",
    "        x = self.layer2(x)\n",
    "        x = self.layer22(x)\n",
    "        x = self.maxpool2(x)\n",
    "        x = self.layer3(x)\n",
    "        x = self.layer4(x)\n",
    "        x = self.layer41(x)\n",
    "        x = self.maxpool3(x)\n",
    "        x = self.layer5(x)\n",
    "        x = self.layer6(x)\n",
    "        x = self.layer61(x)\n",
    "        x = self.maxpool4(x)\n",
    "        x = self.layer7(x)\n",
    "        x = self.layer8(x)\n",
    "        x = self.layer81(x)\n",
    "        x = self.maxpool5(x)\n",
    "        x = x.view(x.size(0), -1)\n",
    "        x = self.classifier(x)\n",
    "        return x"
   ]
  },
  {
   "cell_type": "code",
   "execution_count": 49,
   "id": "a1149acd-2f9c-40ac-9a10-b10287f16f56",
   "metadata": {},
   "outputs": [
    {
     "name": "stdout",
     "output_type": "stream",
     "text": [
      "Epoch 1/5 - Loss: 0.6998 - Accuracy: 0.5087\n",
      "Validation Acc: 0.4975\n",
      "Epoch 2/5 - Loss: 0.3252 - Accuracy: 0.8624\n",
      "Validation Acc: 0.9265\n",
      "Epoch 3/5 - Loss: 0.2773 - Accuracy: 0.9125\n",
      "Validation Acc: 0.9659\n",
      "Epoch 4/5 - Loss: 0.2573 - Accuracy: 0.9258\n",
      "Validation Acc: 0.9552\n",
      "Epoch 5/5 - Loss: 0.6558 - Accuracy: 0.9156\n",
      "Validation Acc: 0.8803\n"
     ]
    }
   ],
   "source": [
    "model = VGG16().to(device)\n",
    "criterion = nn.BCEWithLogitsLoss()\n",
    "optimizer = optim.Adam(model.parameters(), lr=1e-3)\n",
    "\n",
    "# Training loop\n",
    "num_epochs = 5\n",
    "for epoch in range(num_epochs):\n",
    "    model.train()\n",
    "    running_loss = 0.0\n",
    "    correct = 0\n",
    "    total = 0\n",
    "    \n",
    "    for images, labels in train_loader:\n",
    "        images = images.to(device)\n",
    "        labels = labels.to(device).float().unsqueeze(1)  # Shape: (batch_size, 1)\n",
    "\n",
    "        # Forward\n",
    "        outputs = model(images)\n",
    "        loss = criterion(outputs, labels.float())\n",
    "\n",
    "        # Backward\n",
    "        optimizer.zero_grad()\n",
    "        loss.backward()\n",
    "        optimizer.step()\n",
    "\n",
    "        # Metrics\n",
    "        running_loss += loss.item() * images.size(0)\n",
    "        preds = torch.sigmoid(outputs) > 0.5  # convert logits to binary\n",
    "        correct += (preds.float() == labels).sum().item()\n",
    "        total += labels.size(0)\n",
    "\n",
    "    epoch_loss = running_loss / total\n",
    "    epoch_acc = correct / total\n",
    "\n",
    "    print(f\"Epoch {epoch+1}/{num_epochs} - Loss: {epoch_loss:.4f} - Accuracy: {epoch_acc:.4f}\")\n",
    "    \n",
    "    model.eval()\n",
    "    correct = 0\n",
    "    total = 0\n",
    "    with torch.no_grad():\n",
    "        for images, labels in val_loader:\n",
    "            images, labels = images.to(device), labels.to(device).float().unsqueeze(1)\n",
    "            outputs = model(images)\n",
    "            preds = torch.sigmoid(outputs) > 0.5\n",
    "            correct += (preds == labels).sum().item()\n",
    "            total += labels.size(0)\n",
    "    val_acc = correct / total\n",
    "    print(f'Validation Acc: {val_acc:.4f}')"
   ]
  },
  {
   "cell_type": "code",
   "execution_count": 50,
   "id": "0cfd7460-c060-4ca6-b562-4809ad0c4b78",
   "metadata": {},
   "outputs": [
    {
     "name": "stdout",
     "output_type": "stream",
     "text": [
      "Test Accuracy: 0.8778\n"
     ]
    },
    {
     "data": {
      "text/plain": [
       "(0.8778153153153153,\n",
       " tensor([[ True],\n",
       "         [ True],\n",
       "         [False],\n",
       "         ...,\n",
       "         [False],\n",
       "         [ True],\n",
       "         [False]]),\n",
       " tensor([[1.],\n",
       "         [1.],\n",
       "         [0.],\n",
       "         ...,\n",
       "         [0.],\n",
       "         [1.],\n",
       "         [0.]]))"
      ]
     },
     "execution_count": 50,
     "metadata": {},
     "output_type": "execute_result"
    }
   ],
   "source": [
    "test_model(model, test_loader, device)"
   ]
  },
  {
   "cell_type": "code",
   "execution_count": 51,
   "id": "22c92878-2d1d-4c67-9039-95ac13dfbd0b",
   "metadata": {},
   "outputs": [],
   "source": [
    "class VGG19(nn.Module):\n",
    "    def __init__(self):\n",
    "        super(VGG19, self).__init__()\n",
    "        self.layer1 = BasicBlock(3, 64)\n",
    "        self.layer11 = BasicBlock(64, 64)\n",
    "        self.maxpool1 = nn.MaxPool2d(kernel_size=2, stride=2)\n",
    "        self.layer2 = BasicBlock(64, 128)\n",
    "        self.layer22 = BasicBlock(128, 128)\n",
    "        self.maxpool2 = nn.MaxPool2d(kernel_size=2, stride=2)\n",
    "        self.layer3 = BasicBlock(128, 256)\n",
    "        self.layer4 = BasicBlock(256, 256)\n",
    "        self.layer41 = BasicBlock(256, 256)\n",
    "        self.layer42 = BasicBlock(256, 256)\n",
    "        self.maxpool3 = nn.MaxPool2d(kernel_size=2, stride=2)\n",
    "        self.layer5 = BasicBlock(256, 512)\n",
    "        self.layer6 = BasicBlock(512, 512)\n",
    "        self.layer61 = BasicBlock(512, 512)\n",
    "        self.layer62 = BasicBlock(512, 512)\n",
    "        self.maxpool4 = nn.MaxPool2d(kernel_size=2, stride=2)\n",
    "        self.layer7 = BasicBlock(512, 512)\n",
    "        self.layer8 = BasicBlock(512, 512)\n",
    "        self.layer81 = BasicBlock(512, 512)\n",
    "        self.layer82 = BasicBlock(512, 512)\n",
    "        self.maxpool5 = nn.MaxPool2d(kernel_size=2, stride=2)\n",
    "        self.classifier = nn.Sequential(\n",
    "            nn.Linear(512 * 2 * 2, 4096),\n",
    "            nn.ReLU(),\n",
    "            nn.Linear(4096, 4096),\n",
    "            nn.ReLU(),\n",
    "            nn.Linear(4096, 1)\n",
    "        )\n",
    "    def forward(self, x):\n",
    "        x = self.layer1(x)\n",
    "        x = self.layer11(x)\n",
    "        x = self.maxpool1(x)\n",
    "        x = self.layer2(x)\n",
    "        x = self.layer22(x)\n",
    "        x = self.maxpool2(x)\n",
    "        x = self.layer3(x)\n",
    "        x = self.layer4(x)\n",
    "        x = self.layer41(x)\n",
    "        x = self.layer42(x)\n",
    "        x = self.maxpool3(x)\n",
    "        x = self.layer5(x)\n",
    "        x = self.layer6(x)\n",
    "        x = self.layer61(x)\n",
    "        x = self.layer62(x)\n",
    "        x = self.maxpool4(x)\n",
    "        x = self.layer7(x)\n",
    "        x = self.layer8(x)\n",
    "        x = self.layer81(x)\n",
    "        x = self.layer82(x)\n",
    "        x = self.maxpool5(x)\n",
    "        x = x.view(x.size(0), -1)\n",
    "        x = self.classifier(x)\n",
    "        return x"
   ]
  },
  {
   "cell_type": "code",
   "execution_count": 52,
   "id": "13ab229c-147b-4273-a5ea-05625dbc228d",
   "metadata": {},
   "outputs": [
    {
     "name": "stdout",
     "output_type": "stream",
     "text": [
      "Epoch 1/5 - Loss: 0.9064 - Accuracy: 0.5037\n",
      "Validation Acc: 0.4975\n",
      "Epoch 2/5 - Loss: 0.6933 - Accuracy: 0.5038\n",
      "Validation Acc: 0.4975\n",
      "Epoch 3/5 - Loss: 0.6932 - Accuracy: 0.4980\n",
      "Validation Acc: 0.4975\n",
      "Epoch 4/5 - Loss: 0.6931 - Accuracy: 0.5059\n",
      "Validation Acc: 0.4975\n",
      "Epoch 5/5 - Loss: 0.6932 - Accuracy: 0.5027\n",
      "Validation Acc: 0.4975\n"
     ]
    }
   ],
   "source": [
    "model = VGG19().to(device)\n",
    "criterion = nn.BCEWithLogitsLoss()\n",
    "optimizer = optim.Adam(model.parameters(), lr=1e-3)\n",
    "\n",
    "# Training loop\n",
    "num_epochs = 5\n",
    "for epoch in range(num_epochs):\n",
    "    model.train()\n",
    "    running_loss = 0.0\n",
    "    correct = 0\n",
    "    total = 0\n",
    "    \n",
    "    for images, labels in train_loader:\n",
    "        images = images.to(device)\n",
    "        labels = labels.to(device).float().unsqueeze(1)  # Shape: (batch_size, 1)\n",
    "\n",
    "        # Forward\n",
    "        outputs = model(images)\n",
    "        loss = criterion(outputs, labels.float())\n",
    "\n",
    "        # Backward\n",
    "        optimizer.zero_grad()\n",
    "        loss.backward()\n",
    "        optimizer.step()\n",
    "\n",
    "        # Metrics\n",
    "        running_loss += loss.item() * images.size(0)\n",
    "        preds = torch.sigmoid(outputs) > 0.5  # convert logits to binary\n",
    "        correct += (preds.float() == labels).sum().item()\n",
    "        total += labels.size(0)\n",
    "\n",
    "    epoch_loss = running_loss / total\n",
    "    epoch_acc = correct / total\n",
    "\n",
    "    print(f\"Epoch {epoch+1}/{num_epochs} - Loss: {epoch_loss:.4f} - Accuracy: {epoch_acc:.4f}\")\n",
    "    \n",
    "    model.eval()\n",
    "    correct = 0\n",
    "    total = 0\n",
    "    with torch.no_grad():\n",
    "        for images, labels in val_loader:\n",
    "            images, labels = images.to(device), labels.to(device).float().unsqueeze(1)\n",
    "            outputs = model(images)\n",
    "            preds = torch.sigmoid(outputs) > 0.5\n",
    "            correct += (preds == labels).sum().item()\n",
    "            total += labels.size(0)\n",
    "    val_acc = correct / total\n",
    "    print(f'Validation Acc: {val_acc:.4f}')"
   ]
  },
  {
   "cell_type": "code",
   "execution_count": 53,
   "id": "070d266f-a1b3-480e-8767-9fe09781bc1e",
   "metadata": {},
   "outputs": [
    {
     "name": "stdout",
     "output_type": "stream",
     "text": [
      "Test Accuracy: 0.5135\n"
     ]
    },
    {
     "data": {
      "text/plain": [
       "(0.5135135135135135,\n",
       " tensor([[False],\n",
       "         [False],\n",
       "         [False],\n",
       "         ...,\n",
       "         [False],\n",
       "         [False],\n",
       "         [False]]),\n",
       " tensor([[1.],\n",
       "         [1.],\n",
       "         [0.],\n",
       "         ...,\n",
       "         [0.],\n",
       "         [1.],\n",
       "         [0.]]))"
      ]
     },
     "execution_count": 53,
     "metadata": {},
     "output_type": "execute_result"
    }
   ],
   "source": [
    "test_model(model, test_loader, device)"
   ]
  },
  {
   "cell_type": "code",
   "execution_count": null,
   "id": "7660d3a1-ed16-4e5a-84da-fd4f68fb236f",
   "metadata": {},
   "outputs": [],
   "source": []
  }
 ],
 "metadata": {
  "kernelspec": {
   "display_name": "Python 3 (ipykernel)",
   "language": "python",
   "name": "python3"
  },
  "language_info": {
   "codemirror_mode": {
    "name": "ipython",
    "version": 3
   },
   "file_extension": ".py",
   "mimetype": "text/x-python",
   "name": "python",
   "nbconvert_exporter": "python",
   "pygments_lexer": "ipython3",
   "version": "3.11.9"
  }
 },
 "nbformat": 4,
 "nbformat_minor": 5
}
