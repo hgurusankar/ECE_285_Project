{
 "cells": [
  {
   "cell_type": "code",
   "execution_count": 2,
   "id": "6dddb3d6-eae8-44c7-afb0-602ad37a9a1e",
   "metadata": {},
   "outputs": [],
   "source": [
    "import torch\n",
    "import torch.nn as nn\n",
    "from torch.utils.data import Dataset, DataLoader, random_split\n",
    "import numpy as np\n",
    "import matplotlib.pyplot as plt\n",
    "import torchvision\n",
    "import torch.optim as optim\n",
    "from tqdm import tqdm"
   ]
  },
  {
   "cell_type": "code",
   "execution_count": 3,
   "id": "7a053e78-efc8-4904-b03b-aeae078a401d",
   "metadata": {},
   "outputs": [
    {
     "name": "stdout",
     "output_type": "stream",
     "text": [
      "using device: cuda\n"
     ]
    }
   ],
   "source": [
    "USE_GPU = True\n",
    "\n",
    "if USE_GPU and torch.cuda.is_available():\n",
    "    device = torch.device('cuda')\n",
    "else:\n",
    "    device = torch.device('cpu')\n",
    "\n",
    "print('using device:', device)"
   ]
  },
  {
   "cell_type": "code",
   "execution_count": 4,
   "id": "eba212b5-44f8-4578-a5e8-734fe8d52fda",
   "metadata": {},
   "outputs": [],
   "source": [
    "class VehicleDataset(Dataset):\n",
    "    \n",
    "    def __init__(self, path):\n",
    "        data = np.load(path)\n",
    "        self.images = data[\"images\"]\n",
    "        self.labels = data[\"labels\"]\n",
    "        print(\"Images shape:\", self.images.shape)\n",
    "        print(\"Labels shape:\", self.labels.shape)\n",
    "        self.__combinelabels__()\n",
    "\n",
    "    def __len__(self):\n",
    "        return len(self.images)\n",
    "\n",
    "    def __getitem__(self, idx):\n",
    "        image = self.images[idx]\n",
    "        label = self.labels[idx]\n",
    "\n",
    "        image = torch.tensor(image, dtype=torch.float32).permute(2, 0, 1)\n",
    "        label = torch.tensor(label, dtype=torch.long)\n",
    "\n",
    "        #mean = torch.tensor([0.485, 0.456, 0.406]).view(3, 1, 1)\n",
    "        #std = torch.tensor([0.229, 0.224, 0.225]).view(3, 1, 1)\n",
    "        #image = (image - mean) / std\n",
    "        \n",
    "        return image, label\n",
    "    def __combinelabels__(self):\n",
    "        for idx, label in enumerate(self.labels):\n",
    "            if label == 1:\n",
    "                self.labels[idx] = 1\n",
    "            if label >= 2 and label <= 7:\n",
    "                self.labels[idx] = 2\n",
    "            if label >= 8 and label <= 11:\n",
    "                self.labels[idx] = 3\n",
    "            if label >= 12 and label <= 25:\n",
    "                self.labels[idx] = 4\n",
    "            if label >= 26 and label <= 38:\n",
    "               self.labels[idx] = 5\n",
    "            if label >= 39 and label <= 44:\n",
    "                self.labels[idx] = 6\n",
    "            if label >= 45 and label <= 50:\n",
    "                self.labels[idx] = 7\n",
    "            if label >= 51 and label <= 53:\n",
    "                self.labels[idx] = 8\n",
    "            if label >= 54 and label <= 75:\n",
    "                self.labels[idx] = 9\n",
    "            if label >= 76 and label <= 81:\n",
    "                self.labels[idx] = 10\n",
    "            if label == 82:\n",
    "                self.labels[idx] = 11\n",
    "            if label >= 83 and label <= 97:\n",
    "                self.labels[idx] = 12\n",
    "            if label == 98:\n",
    "                self.labels[idx] = 13\n",
    "            if label >= 99 and label <= 100:\n",
    "                self.labels[idx] = 14\n",
    "            if label >= 101 and label <= 104:\n",
    "                self.labels[idx] = 15\n",
    "            if label == 105:\n",
    "                self.labels[idx] = 16\n",
    "            if label >= 106 and label <= 117:\n",
    "                self.labels[idx] = 17\n",
    "            if label >= 118 and label <= 122:\n",
    "                self.labels[idx] = 18\n",
    "            if label == 123:\n",
    "                self.labels[idx] = 19\n",
    "            if label >= 124 and label <= 125:\n",
    "                self.labels[idx] = 20\n",
    "            if label >= 126 and label <= 129:\n",
    "                self.labels[idx] = 21\n",
    "            if label >= 130 and label <= 140:\n",
    "                self.labels[idx] = 22\n",
    "            if label >= 141 and label <= 142:\n",
    "                self.labels[idx] = 23\n",
    "            if label == 143:\n",
    "                self.labels[idx] = 24\n",
    "            if label == 144:\n",
    "                self.labels[idx] = 25\n",
    "            if label >= 145 and label <= 149:\n",
    "                self.labels[idx] = 26\n",
    "            if label >= 150 and label <= 153:\n",
    "                self.labels[idx] = 27\n",
    "            if label >= 154 and label <= 155:\n",
    "                self.labels[idx] = 28\n",
    "            if label == 156:\n",
    "                self.labels[idx] = 29\n",
    "            if label == 157:\n",
    "                self.labels[idx] = 30\n",
    "            if label == 158:\n",
    "                self.labels[idx] = 31\n",
    "            if label == 159:\n",
    "                self.labels[idx] = 32\n",
    "            if label == 160:\n",
    "                self.labels[idx] = 33\n",
    "            if label >= 161 and label <= 166:\n",
    "                self.labels[idx] = 34\n",
    "            if label == 167:\n",
    "                self.labels[idx] = 35\n",
    "            if label >= 168 and label <= 171:\n",
    "                self.labels[idx] = 36\n",
    "            if label == 172:\n",
    "                self.labels[idx] = 37\n",
    "            if label == 173:\n",
    "                self.labels[idx] = 38\n",
    "            if label == 174:\n",
    "                self.labels[idx] = 39\n",
    "            if label >= 175 and label <= 177:\n",
    "                self.labels[idx] = 40\n",
    "            if label == 178:\n",
    "                self.labels[idx] = 41\n",
    "            if label >= 179 and label <= 180:\n",
    "                self.labels[idx] = 42\n",
    "            if label >= 181 and label <= 184:\n",
    "                self.labels[idx] = 43\n",
    "            if label == 185:\n",
    "                self.labels[idx] = 44\n",
    "            if label >= 186 and label <= 189:\n",
    "                self.labels[idx] = 45\n",
    "            if label >= 190 and label <= 192:\n",
    "                self.labels[idx] = 46\n",
    "            if label >= 193 and label <= 195:\n",
    "                self.labels[idx] = 47\n",
    "            if label == 196:\n",
    "                self.labels[idx] = 48"
   ]
  },
  {
   "cell_type": "code",
   "execution_count": 5,
   "id": "a121fa9b-bb46-4f49-8f10-366bdd9e4229",
   "metadata": {},
   "outputs": [
    {
     "name": "stdout",
     "output_type": "stream",
     "text": [
      "Images shape: (8144, 112, 112, 3)\n",
      "Labels shape: (8144, 1)\n"
     ]
    }
   ],
   "source": [
    "dataset = VehicleDataset('../dataset/stanford_cars_dataset.npz')\n",
    "\n",
    "batch_size = 32\n",
    "train_size = int(0.7 * len(dataset))\n",
    "val_size = int(0.2 * len(dataset))\n",
    "test_size = int(len(dataset) - train_size - val_size)\n",
    "\n",
    "train_dataset, val_dataset, test_dataset = random_split(dataset, [train_size, val_size, test_size])\n",
    "\n",
    "train_loader = DataLoader(train_dataset, batch_size=batch_size, shuffle=True)\n",
    "val_loader = DataLoader(val_dataset, batch_size=batch_size, shuffle=False)\n",
    "test_loader = DataLoader(test_dataset, batch_size=batch_size, shuffle=False)"
   ]
  },
  {
   "cell_type": "code",
   "execution_count": 25,
   "id": "58483923-9e2b-45cc-ba40-6a3bf9c4471d",
   "metadata": {},
   "outputs": [],
   "source": [
    "def train_model(model):\n",
    "    criterion = nn.CrossEntropyLoss()\n",
    "    optimizer = torch.optim.Adam(model.parameters(), lr=1e-4)\n",
    "    # optimizer = torch.optim.SGD(model.parameters(), lr=1e-3, momentum=0.9, weight_decay=1e-4)\n",
    "    scheduler = optim.lr_scheduler.StepLR(optimizer, step_size=10, gamma=0.1)\n",
    "\n",
    "    num_epochs = 30\n",
    "    for epoch in range(num_epochs):\n",
    "        model.train()\n",
    "        running_loss = 0.0\n",
    "        correct = 0\n",
    "        total = 0\n",
    "    \n",
    "        for images, labels in tqdm(train_loader):\n",
    "            images = images.to(device)\n",
    "            labels = labels[:,0].to(device) - 1\n",
    "\n",
    "            # Forward\n",
    "            outputs = model(images)\n",
    "            loss = criterion(outputs, labels)\n",
    "\n",
    "            # Backward\n",
    "            optimizer.zero_grad()\n",
    "            loss.backward()\n",
    "            optimizer.step()\n",
    "\n",
    "            # Metrics\n",
    "            running_loss += loss.item() * images.size(0)\n",
    "            preds = torch.argmax(outputs, dim=1)\n",
    "            correct += (preds == labels).sum().item()\n",
    "            total += labels.size(0)\n",
    "\n",
    "        epoch_loss = running_loss / total\n",
    "        epoch_acc = correct / total\n",
    "        scheduler.step()\n",
    "        print(f\"Epoch {epoch+1}/{num_epochs} - Loss: {epoch_loss:.4f} - Accuracy: {epoch_acc:.4f}\")\n",
    "    \n",
    "        model.eval()\n",
    "        correct = 0\n",
    "        total = 0\n",
    "        with torch.no_grad():\n",
    "            for images, labels in val_loader:\n",
    "                images = images.to(device)\n",
    "                labels = labels[:,0].to(device) - 1\n",
    "            \n",
    "                outputs = model(images)\n",
    "                preds = torch.argmax(outputs, dim=1)\n",
    "                correct += (preds == labels).sum().item()\n",
    "                total += labels.size(0)\n",
    "        val_acc = correct / total\n",
    "        print(f'Validation Acc: {val_acc:.4f}')"
   ]
  },
  {
   "cell_type": "code",
   "execution_count": 26,
   "id": "49440ec0-ce48-4ba3-809e-cb48e8196825",
   "metadata": {},
   "outputs": [],
   "source": [
    "def test_model(model, test_loader, device):\n",
    "    model.eval()  # Set model to evaluation mode\n",
    "    correct = 0\n",
    "    total = 0\n",
    "\n",
    "    all_preds = []\n",
    "    all_labels = []\n",
    "\n",
    "    with torch.no_grad():\n",
    "        for images, labels in test_loader:\n",
    "            images = images.to(device)\n",
    "            labels = labels[:,0].to(device) - 1 \n",
    "            \n",
    "            outputs = model(images)\n",
    "            preds = torch.argmax(outputs, dim=1)\n",
    "\n",
    "            correct += (preds == labels).sum().item()\n",
    "            total += labels.size(0)\n",
    "\n",
    "            all_preds.append(preds.cpu())\n",
    "            all_labels.append(labels.cpu())\n",
    "\n",
    "    accuracy = correct / total\n",
    "    print(f'Test Accuracy: {accuracy:.4f}')\n",
    "\n",
    "    # Concatenate all predictions and labels if needed for further analysis\n",
    "    all_preds = torch.cat(all_preds)\n",
    "    all_labels = torch.cat(all_labels)\n",
    "    \n",
    "    return accuracy, all_preds, all_labels"
   ]
  },
  {
   "cell_type": "code",
   "execution_count": 27,
   "id": "ce324c03-72cc-4cab-8f57-10cd6534030f",
   "metadata": {},
   "outputs": [],
   "source": [
    "class DenseLayer(nn.Module):\n",
    "    def __init__(self, in_channels, growth_rate):\n",
    "        super(DenseLayer, self).__init__()\n",
    "        self.bn = nn.BatchNorm2d(in_channels)\n",
    "        self.relu = nn.ReLU(inplace=True)\n",
    "        self.conv = nn.Conv2d(in_channels, growth_rate, kernel_size=3, padding=1, bias=False)\n",
    "\n",
    "    def forward(self, x):\n",
    "        out = self.conv(self.relu(self.bn(x)))\n",
    "        return torch.cat([x, out], 1) \n",
    "\n",
    "class Block(nn.Module):\n",
    "    def __init__(self, num_layers, in_channels, growth_rate=32):\n",
    "        super(Block, self).__init__()\n",
    "        layers = []\n",
    "        for i in range(num_layers):\n",
    "            layers.append(DenseLayer(in_channels + (i * growth_rate), growth_rate))\n",
    "        self.block = nn.Sequential(*layers)\n",
    "\n",
    "    def forward(self, x):\n",
    "        return self.block(x)\n",
    "\n",
    "class Transition(nn.Module):\n",
    "    def __init__(self, in_channels, out_channels):\n",
    "        super(Transition, self).__init__()\n",
    "        self.bn = nn.BatchNorm2d(in_channels)\n",
    "        self.relu = nn.ReLU(inplace=True)\n",
    "        self.conv = nn.Conv2d(in_channels, out_channels, kernel_size=1, bias=False)\n",
    "        self.avgpool = nn.AvgPool2d(2)\n",
    "\n",
    "    def forward(self, x):\n",
    "        x = self.conv(self.relu(self.bn(x)))\n",
    "        return self.avgpool(x)\n",
    "\n",
    "class DenseNet(nn.Module):\n",
    "    def __init__(self, num_classes=96, growth_rate=32):\n",
    "        super(DenseNet, self).__init__()\n",
    "\n",
    "        self.features = nn.Sequential(\n",
    "            nn.Conv2d(3, 64, kernel_size=7, stride=2, padding=3, bias=False),\n",
    "            nn.BatchNorm2d(64),\n",
    "            nn.ReLU(inplace=True),\n",
    "            nn.MaxPool2d(kernel_size=3, stride=2, padding=1),\n",
    "        )\n",
    "\n",
    "        num_features = 64\n",
    "        config_list = [6, 12, 24, 16] \n",
    "\n",
    "        self.dense_blocks = nn.ModuleList()\n",
    "        self.transitions = nn.ModuleList()\n",
    "\n",
    "        for i, num_layers in enumerate(config_list):\n",
    "            block = Block(num_layers, num_features, growth_rate)\n",
    "            self.dense_blocks.append(block)\n",
    "            num_features += num_layers * growth_rate\n",
    "\n",
    "            if i != len(config_list) - 1:\n",
    "                transition = Transition(num_features, num_features // 2)\n",
    "                self.transitions.append(transition)\n",
    "                num_features = num_features // 2\n",
    "\n",
    "        self.bn = nn.BatchNorm2d(num_features)\n",
    "        self.relu = nn.ReLU(inplace=True)\n",
    "        self.avgpool = nn.AdaptiveAvgPool2d((1, 1))\n",
    "        self.fc = nn.Linear(num_features, 48)\n",
    "\n",
    "    def forward(self, x):\n",
    "        x = self.features(x)\n",
    "        for i in range(len(self.dense_blocks)):\n",
    "            x = self.dense_blocks[i](x)\n",
    "            if i < len(self.transitions):\n",
    "                x = self.transitions[i](x)\n",
    "        x = self.avgpool(self.relu(self.bn(x)))\n",
    "        x = torch.flatten(x, 1)\n",
    "        x = self.fc(x)\n",
    "        return x"
   ]
  },
  {
   "cell_type": "code",
   "execution_count": 28,
   "id": "02930de5-f8d3-43e6-a027-36cb8727d4ff",
   "metadata": {},
   "outputs": [
    {
     "name": "stderr",
     "output_type": "stream",
     "text": [
      "100%|██████████| 179/179 [00:20<00:00,  8.53it/s]\n"
     ]
    },
    {
     "name": "stdout",
     "output_type": "stream",
     "text": [
      "Epoch 1/30 - Loss: 3.4009 - Accuracy: 0.1153\n",
      "Validation Acc: 0.1290\n"
     ]
    },
    {
     "name": "stderr",
     "output_type": "stream",
     "text": [
      "100%|██████████| 179/179 [00:20<00:00,  8.67it/s]\n"
     ]
    },
    {
     "name": "stdout",
     "output_type": "stream",
     "text": [
      "Epoch 2/30 - Loss: 3.1597 - Accuracy: 0.1589\n",
      "Validation Acc: 0.1511\n"
     ]
    },
    {
     "name": "stderr",
     "output_type": "stream",
     "text": [
      "100%|██████████| 179/179 [00:20<00:00,  8.61it/s]\n"
     ]
    },
    {
     "name": "stdout",
     "output_type": "stream",
     "text": [
      "Epoch 3/30 - Loss: 2.9919 - Accuracy: 0.1842\n",
      "Validation Acc: 0.1720\n"
     ]
    },
    {
     "name": "stderr",
     "output_type": "stream",
     "text": [
      "100%|██████████| 179/179 [00:20<00:00,  8.76it/s]\n"
     ]
    },
    {
     "name": "stdout",
     "output_type": "stream",
     "text": [
      "Epoch 4/30 - Loss: 2.7893 - Accuracy: 0.2382\n",
      "Validation Acc: 0.1536\n"
     ]
    },
    {
     "name": "stderr",
     "output_type": "stream",
     "text": [
      "100%|██████████| 179/179 [00:20<00:00,  8.94it/s]\n"
     ]
    },
    {
     "name": "stdout",
     "output_type": "stream",
     "text": [
      "Epoch 5/30 - Loss: 2.5498 - Accuracy: 0.2946\n",
      "Validation Acc: 0.2045\n"
     ]
    },
    {
     "name": "stderr",
     "output_type": "stream",
     "text": [
      "100%|██████████| 179/179 [00:21<00:00,  8.42it/s]\n"
     ]
    },
    {
     "name": "stdout",
     "output_type": "stream",
     "text": [
      "Epoch 6/30 - Loss: 2.2859 - Accuracy: 0.3688\n",
      "Validation Acc: 0.1701\n"
     ]
    },
    {
     "name": "stderr",
     "output_type": "stream",
     "text": [
      "100%|██████████| 179/179 [00:20<00:00,  8.79it/s]\n"
     ]
    },
    {
     "name": "stdout",
     "output_type": "stream",
     "text": [
      "Epoch 7/30 - Loss: 1.9971 - Accuracy: 0.4416\n",
      "Validation Acc: 0.2346\n"
     ]
    },
    {
     "name": "stderr",
     "output_type": "stream",
     "text": [
      "100%|██████████| 179/179 [00:20<00:00,  8.62it/s]\n"
     ]
    },
    {
     "name": "stdout",
     "output_type": "stream",
     "text": [
      "Epoch 8/30 - Loss: 1.6719 - Accuracy: 0.5358\n",
      "Validation Acc: 0.2242\n"
     ]
    },
    {
     "name": "stderr",
     "output_type": "stream",
     "text": [
      "100%|██████████| 179/179 [00:20<00:00,  8.75it/s]\n"
     ]
    },
    {
     "name": "stdout",
     "output_type": "stream",
     "text": [
      "Epoch 9/30 - Loss: 1.3269 - Accuracy: 0.6396\n",
      "Validation Acc: 0.2297\n"
     ]
    },
    {
     "name": "stderr",
     "output_type": "stream",
     "text": [
      "100%|██████████| 179/179 [00:20<00:00,  8.84it/s]\n"
     ]
    },
    {
     "name": "stdout",
     "output_type": "stream",
     "text": [
      "Epoch 10/30 - Loss: 0.9420 - Accuracy: 0.7532\n",
      "Validation Acc: 0.2359\n"
     ]
    },
    {
     "name": "stderr",
     "output_type": "stream",
     "text": [
      "100%|██████████| 179/179 [00:20<00:00,  8.89it/s]\n"
     ]
    },
    {
     "name": "stdout",
     "output_type": "stream",
     "text": [
      "Epoch 11/30 - Loss: 0.4927 - Accuracy: 0.9147\n",
      "Validation Acc: 0.3305\n"
     ]
    },
    {
     "name": "stderr",
     "output_type": "stream",
     "text": [
      "100%|██████████| 179/179 [00:22<00:00,  8.12it/s]\n"
     ]
    },
    {
     "name": "stdout",
     "output_type": "stream",
     "text": [
      "Epoch 12/30 - Loss: 0.3249 - Accuracy: 0.9593\n",
      "Validation Acc: 0.3391\n"
     ]
    },
    {
     "name": "stderr",
     "output_type": "stream",
     "text": [
      "100%|██████████| 179/179 [00:22<00:00,  7.98it/s]\n"
     ]
    },
    {
     "name": "stdout",
     "output_type": "stream",
     "text": [
      "Epoch 13/30 - Loss: 0.2662 - Accuracy: 0.9728\n",
      "Validation Acc: 0.3385\n"
     ]
    },
    {
     "name": "stderr",
     "output_type": "stream",
     "text": [
      "100%|██████████| 179/179 [00:20<00:00,  8.78it/s]\n"
     ]
    },
    {
     "name": "stdout",
     "output_type": "stream",
     "text": [
      "Epoch 14/30 - Loss: 0.2232 - Accuracy: 0.9833\n",
      "Validation Acc: 0.3421\n"
     ]
    },
    {
     "name": "stderr",
     "output_type": "stream",
     "text": [
      "100%|██████████| 179/179 [00:20<00:00,  8.85it/s]\n"
     ]
    },
    {
     "name": "stdout",
     "output_type": "stream",
     "text": [
      "Epoch 15/30 - Loss: 0.1902 - Accuracy: 0.9896\n",
      "Validation Acc: 0.3458\n"
     ]
    },
    {
     "name": "stderr",
     "output_type": "stream",
     "text": [
      "100%|██████████| 179/179 [00:20<00:00,  8.67it/s]\n"
     ]
    },
    {
     "name": "stdout",
     "output_type": "stream",
     "text": [
      "Epoch 16/30 - Loss: 0.1650 - Accuracy: 0.9933\n",
      "Validation Acc: 0.3440\n"
     ]
    },
    {
     "name": "stderr",
     "output_type": "stream",
     "text": [
      "100%|██████████| 179/179 [00:21<00:00,  8.38it/s]\n"
     ]
    },
    {
     "name": "stdout",
     "output_type": "stream",
     "text": [
      "Epoch 17/30 - Loss: 0.1486 - Accuracy: 0.9940\n",
      "Validation Acc: 0.3458\n"
     ]
    },
    {
     "name": "stderr",
     "output_type": "stream",
     "text": [
      "100%|██████████| 179/179 [00:20<00:00,  8.58it/s]\n"
     ]
    },
    {
     "name": "stdout",
     "output_type": "stream",
     "text": [
      "Epoch 18/30 - Loss: 0.1234 - Accuracy: 0.9972\n",
      "Validation Acc: 0.3458\n"
     ]
    },
    {
     "name": "stderr",
     "output_type": "stream",
     "text": [
      "100%|██████████| 179/179 [00:20<00:00,  8.83it/s]\n"
     ]
    },
    {
     "name": "stdout",
     "output_type": "stream",
     "text": [
      "Epoch 19/30 - Loss: 0.1087 - Accuracy: 0.9984\n",
      "Validation Acc: 0.3458\n"
     ]
    },
    {
     "name": "stderr",
     "output_type": "stream",
     "text": [
      "100%|██████████| 179/179 [00:20<00:00,  8.67it/s]\n"
     ]
    },
    {
     "name": "stdout",
     "output_type": "stream",
     "text": [
      "Epoch 20/30 - Loss: 0.0944 - Accuracy: 0.9993\n",
      "Validation Acc: 0.3532\n"
     ]
    },
    {
     "name": "stderr",
     "output_type": "stream",
     "text": [
      "100%|██████████| 179/179 [00:19<00:00,  9.10it/s]\n"
     ]
    },
    {
     "name": "stdout",
     "output_type": "stream",
     "text": [
      "Epoch 21/30 - Loss: 0.0837 - Accuracy: 0.9993\n",
      "Validation Acc: 0.3489\n"
     ]
    },
    {
     "name": "stderr",
     "output_type": "stream",
     "text": [
      "100%|██████████| 179/179 [00:19<00:00,  9.07it/s]\n"
     ]
    },
    {
     "name": "stdout",
     "output_type": "stream",
     "text": [
      "Epoch 22/30 - Loss: 0.0797 - Accuracy: 0.9993\n",
      "Validation Acc: 0.3428\n"
     ]
    },
    {
     "name": "stderr",
     "output_type": "stream",
     "text": [
      "100%|██████████| 179/179 [00:20<00:00,  8.91it/s]\n"
     ]
    },
    {
     "name": "stdout",
     "output_type": "stream",
     "text": [
      "Epoch 23/30 - Loss: 0.0766 - Accuracy: 0.9998\n",
      "Validation Acc: 0.3477\n"
     ]
    },
    {
     "name": "stderr",
     "output_type": "stream",
     "text": [
      "100%|██████████| 179/179 [00:20<00:00,  8.70it/s]\n"
     ]
    },
    {
     "name": "stdout",
     "output_type": "stream",
     "text": [
      "Epoch 24/30 - Loss: 0.0773 - Accuracy: 0.9998\n",
      "Validation Acc: 0.3526\n"
     ]
    },
    {
     "name": "stderr",
     "output_type": "stream",
     "text": [
      "100%|██████████| 179/179 [00:20<00:00,  8.89it/s]\n"
     ]
    },
    {
     "name": "stdout",
     "output_type": "stream",
     "text": [
      "Epoch 25/30 - Loss: 0.0746 - Accuracy: 0.9998\n",
      "Validation Acc: 0.3538\n"
     ]
    },
    {
     "name": "stderr",
     "output_type": "stream",
     "text": [
      "100%|██████████| 179/179 [00:19<00:00,  9.30it/s]\n"
     ]
    },
    {
     "name": "stdout",
     "output_type": "stream",
     "text": [
      "Epoch 26/30 - Loss: 0.0723 - Accuracy: 0.9998\n",
      "Validation Acc: 0.3507\n"
     ]
    },
    {
     "name": "stderr",
     "output_type": "stream",
     "text": [
      "100%|██████████| 179/179 [00:20<00:00,  8.82it/s]\n"
     ]
    },
    {
     "name": "stdout",
     "output_type": "stream",
     "text": [
      "Epoch 27/30 - Loss: 0.0745 - Accuracy: 0.9996\n",
      "Validation Acc: 0.3464\n"
     ]
    },
    {
     "name": "stderr",
     "output_type": "stream",
     "text": [
      "100%|██████████| 179/179 [00:19<00:00,  9.23it/s]\n"
     ]
    },
    {
     "name": "stdout",
     "output_type": "stream",
     "text": [
      "Epoch 28/30 - Loss: 0.0733 - Accuracy: 0.9998\n",
      "Validation Acc: 0.3526\n"
     ]
    },
    {
     "name": "stderr",
     "output_type": "stream",
     "text": [
      "100%|██████████| 179/179 [00:20<00:00,  8.71it/s]\n"
     ]
    },
    {
     "name": "stdout",
     "output_type": "stream",
     "text": [
      "Epoch 29/30 - Loss: 0.0731 - Accuracy: 0.9993\n",
      "Validation Acc: 0.3464\n"
     ]
    },
    {
     "name": "stderr",
     "output_type": "stream",
     "text": [
      "100%|██████████| 179/179 [00:20<00:00,  8.89it/s]\n"
     ]
    },
    {
     "name": "stdout",
     "output_type": "stream",
     "text": [
      "Epoch 30/30 - Loss: 0.0694 - Accuracy: 0.9995\n",
      "Validation Acc: 0.3434\n"
     ]
    }
   ],
   "source": [
    "model = DenseNet().to(device)\n",
    "train_model(model)"
   ]
  },
  {
   "cell_type": "code",
   "execution_count": 30,
   "id": "12d0c22b-7c50-413d-8055-0b296db62d7f",
   "metadata": {},
   "outputs": [],
   "source": [
    "torch.save(model.state_dict(), \"DenseNet121\")"
   ]
  },
  {
   "cell_type": "code",
   "execution_count": 29,
   "id": "0febf746-8f06-438a-af89-50512b71c912",
   "metadata": {},
   "outputs": [
    {
     "name": "stdout",
     "output_type": "stream",
     "text": [
      "Test Accuracy: 0.3150\n"
     ]
    },
    {
     "data": {
      "text/plain": [
       "(0.31495098039215685,\n",
       " tensor([22,  8, 25, 27, 44, 21, 28, 11,  2, 13, 41,  4, 42,  8,  3, 39,  8,  4,\n",
       "          4,  8,  1,  4,  6, 11, 17, 25,  3,  0, 11, 11, 11, 17, 22, 45, 16, 14,\n",
       "         11,  3,  4, 11,  3, 16, 35,  8,  6, 16,  4, 16, 33,  8,  4, 17, 21, 16,\n",
       "          4,  3, 33,  4, 11,  4, 40,  6,  8, 15,  4, 44, 16,  8, 35,  8,  3, 39,\n",
       "         20, 45,  8,  8, 11,  8, 16,  8,  4,  8, 39, 44, 21,  3, 11, 33, 11, 16,\n",
       "         37, 11, 33,  7, 21,  0,  8, 16,  4,  3,  4, 11,  3,  8,  8,  8, 18, 16,\n",
       "          3, 16, 37, 34,  3,  5, 20, 17,  8, 36,  8,  3,  4,  5,  8,  8, 33, 16,\n",
       "         16,  8,  6, 11,  9, 16,  7,  3,  4,  9,  6, 32,  8, 46,  6,  6,  4, 10,\n",
       "          3, 18,  8, 33, 39,  4,  8, 26, 14, 16,  5,  4, 22, 35,  5, 11, 38, 11,\n",
       "         42,  3,  4,  1, 16,  3, 20,  9, 21,  8, 21,  5, 24,  8, 35,  4,  7, 13,\n",
       "          8,  8,  4,  3,  8, 21,  8,  3, 11,  8, 44, 16,  8, 16,  6, 11,  1, 19,\n",
       "         11, 29,  3,  4,  4, 25,  6, 11,  4, 42, 20, 35,  4,  8, 16,  8, 44,  3,\n",
       "          8,  8, 11,  4,  8,  8, 17, 20, 14,  7, 17,  8, 41,  8, 11, 25, 16, 13,\n",
       "          8, 17,  3,  3, 11, 11,  3,  8,  3,  3,  8,  6, 14,  8,  1, 41,  0,  6,\n",
       "          8,  9,  3,  9,  6,  3,  3, 11, 16, 11,  8,  8,  4,  8,  6,  8,  8, 20,\n",
       "          8,  9,  4, 14,  8,  3,  8,  8,  6,  9, 18,  8, 35, 42, 24, 33, 46,  6,\n",
       "          3,  9, 20, 11, 11, 16,  8,  6,  8,  4,  3,  3, 46,  3, 16,  4,  4, 21,\n",
       "          8, 16, 17,  4, 25,  8,  4, 26,  3,  4, 11,  8,  8, 16,  8,  8, 25, 33,\n",
       "          8, 17,  8, 34,  4,  9, 21,  8, 21,  8, 20, 11,  8, 11, 41, 25,  3, 11,\n",
       "          5,  6,  9, 16, 20, 42,  8, 47, 40,  3,  8, 11, 16,  8, 20, 25, 45, 35,\n",
       "          3, 44,  9,  7,  8, 20,  3, 11, 21, 11,  8,  7,  1,  3,  8,  3, 11,  4,\n",
       "         24,  8, 16,  4,  9, 11,  3, 10,  4, 44,  3, 16,  9, 26, 11,  8, 33,  1,\n",
       "          1, 10, 21, 35,  4, 21, 20, 25, 11, 30,  3,  9, 16,  4,  8, 37,  4, 35,\n",
       "          8,  4, 33, 17,  7, 22,  3, 21,  4,  4, 11, 20, 20,  4, 40, 24, 22,  7,\n",
       "          3, 47, 35,  4,  3, 16,  8, 21, 26,  3, 33,  3, 30,  1,  4,  6,  8, 21,\n",
       "         31, 11,  6, 44,  3,  4, 22,  1,  4,  9, 27, 42,  3,  6,  8,  8,  8,  3,\n",
       "         14, 11, 11, 11,  8,  9, 11,  9,  8,  6,  4,  8,  8, 16,  3, 14, 33,  3,\n",
       "          5, 35,  3,  8,  8,  8, 33, 44, 20, 17,  4,  3,  5, 33, 37,  6,  3,  1,\n",
       "          8, 11, 11, 34,  8,  7,  8,  8,  8, 15, 44, 21,  4,  9, 44,  6,  2,  3,\n",
       "          1,  8, 11,  1,  4,  3,  3,  8, 39,  4, 21,  4, 16, 17, 21,  8,  8,  4,\n",
       "         16,  3, 16, 11, 16, 36, 16, 33, 31, 16,  8, 21,  6, 45,  4,  8,  8, 25,\n",
       "         39, 11, 34,  6,  8, 35,  8,  3,  1, 17,  9,  8, 21, 45,  5,  4,  6, 14,\n",
       "          4,  4,  9,  9,  1, 24,  3,  5, 35, 11, 40, 22, 26, 16,  8, 16,  6,  9,\n",
       "          3, 44,  7, 26,  7, 37, 14, 30,  8,  8,  9, 17,  6, 17,  3, 27, 46,  9,\n",
       "          6,  4,  6,  8,  4,  4,  8,  8,  4,  3,  4,  4,  3, 25, 20,  4,  3, 30,\n",
       "         25,  3,  3,  9,  8, 28, 11, 33,  3, 11, 11, 11, 16, 33, 16, 16, 45,  4,\n",
       "          8,  5,  8,  9,  8,  3,  2, 14,  8,  8,  3,  4,  5,  3,  3, 45,  8,  3,\n",
       "          4, 11,  4, 16,  8, 22,  4, 31, 40, 41,  5, 39, 11, 44, 11, 42,  4, 16,\n",
       "         16, 11, 11, 11,  1,  4, 14,  3, 20,  2,  8, 44,  8,  9,  1,  3,  9,  6,\n",
       "          4,  8, 21,  1,  4, 11, 16,  8, 35,  8,  4,  6,  5,  8, 17,  8, 11,  3,\n",
       "         47,  8, 20,  4,  8, 13,  5,  8,  8, 41, 20, 16, 11, 16, 29, 33,  8, 36,\n",
       "          1,  3,  8,  4,  8, 11, 11, 11,  3,  3, 25, 44, 22, 42,  9, 17,  8, 35,\n",
       "          4, 21,  8,  8, 25,  8,  8, 21, 21,  4, 35,  4,  4,  6, 17,  8,  4,  8,\n",
       "          6,  8,  4,  4, 47,  8, 21,  1, 35,  3, 44,  9,  8,  4, 39, 35, 41, 37,\n",
       "         11,  6,  3, 16,  8,  8, 16, 23, 26, 16,  4, 26,  3,  3,  8,  5, 35,  3,\n",
       "         47, 25,  4,  4,  4, 21]),\n",
       " tensor([28, 17, 25, 17, 31, 42, 16, 11, 14, 14,  5, 35, 34,  6, 43, 16, 26,  4,\n",
       "         16, 17,  3, 21, 15, 33,  8,  0,  5,  0, 11, 11, 42, 17,  4,  1,  1, 26,\n",
       "         16,  4,  4, 11,  3,  9,  4,  8, 29, 21, 21,  8, 33,  8, 16, 17, 44, 16,\n",
       "          4,  1, 33,  3, 44,  3, 21,  6,  8,  2, 46, 16,  8, 35, 42,  8,  3, 25,\n",
       "         20, 45, 24, 14, 44, 33, 33, 21,  2, 24,  3,  1, 21,  3, 11, 38, 44, 11,\n",
       "          2, 11, 39, 17, 11,  0, 17, 20,  3,  3, 11, 11,  4,  8, 17, 14, 33, 16,\n",
       "          3, 16,  8, 33,  3,  6, 17, 17, 26,  8,  8, 16,  4,  5,  8,  7,  2, 16,\n",
       "         16, 35,  3, 42,  1,  7, 45, 39, 15,  8,  6, 32, 11,  8, 12,  8,  4, 26,\n",
       "          3,  3, 11, 11, 39,  4, 21, 26, 16, 27, 24,  4, 11, 11, 20, 11, 13, 11,\n",
       "         11,  4,  1, 16, 21, 33,  7, 42,  8,  8, 44,  5,  2,  8, 19,  5,  8, 13,\n",
       "         11, 17,  4,  3,  7, 16, 20,  3, 21, 16, 21, 16, 29, 16,  3, 19,  1, 19,\n",
       "         11, 29,  3,  3,  4, 11, 35, 33,  4, 17, 11, 15, 21,  2, 16,  9, 21,  3,\n",
       "          8, 17, 11, 39, 17,  1, 11, 20, 14, 44,  8,  6, 16,  8, 39, 25, 16, 17,\n",
       "         16, 11, 21,  3, 33, 17,  3,  8,  1, 16,  4, 21, 14, 14,  8, 26,  0, 25,\n",
       "         21,  4, 16, 21, 20,  3,  3, 25,  4, 25, 17, 33,  6,  8,  3,  8, 12, 16,\n",
       "         11,  3, 33, 11,  8, 35,  8, 16, 13,  9, 18,  1,  4, 42,  3,  8, 38,  7,\n",
       "          3, 33, 20, 17, 16, 44,  8, 34, 16, 11,  3,  4, 36,  3, 35,  9,  6, 21,\n",
       "          8, 27,  6, 11, 25,  8, 21, 32,  8,  4, 17,  8,  8, 44, 45, 46, 25, 21,\n",
       "          9, 16, 16, 33,  4,  8,  9, 17,  3,  8, 16, 11, 11,  8, 41, 25,  8,  6,\n",
       "          5,  4, 20,  1,  9, 41, 23, 13, 40,  3,  8, 11, 16, 27, 20, 25, 45, 11,\n",
       "         14, 17,  9,  7,  8,  1,  3,  8,  1, 11,  8,  5,  1, 33, 46, 20,  5,  1,\n",
       "          8,  8,  4,  3,  3,  8, 22, 42,  4, 44,  4, 20, 42,  8, 25, 27,  4,  5,\n",
       "          1,  3, 20, 38,  3,  9,  9, 25, 11, 30,  3, 33,  3, 33, 21,  5,  4, 12,\n",
       "          8, 16,  3,  8, 35, 31,  3, 21, 11,  9,  8, 21, 20,  4, 12,  6,  3,  9,\n",
       "         28, 47,  3, 20,  3, 45, 32,  4, 26, 45, 21,  3, 30,  1,  9, 13, 44, 33,\n",
       "         11,  4, 28, 33, 11,  6,  1, 33,  2, 21,  9, 42,  8,  6,  8, 19,  9, 33,\n",
       "         14,  4,  8,  2, 35,  9, 11,  9,  8, 30, 21, 17, 43, 16, 39, 14, 21,  3,\n",
       "          5, 16, 43, 11, 11, 35, 21, 22, 16, 31, 46,  3, 21, 35,  3, 45,  3, 16,\n",
       "         45,  8, 11, 22,  1,  7,  8,  8,  8, 45,  8, 46,  2,  9, 42, 21,  5,  3,\n",
       "          1,  8, 11,  7,  4,  3,  3, 21,  0,  6, 39,  4, 16, 31, 21,  8, 22,  4,\n",
       "         16,  3, 39, 16, 25, 14, 35, 33, 10,  8,  8,  9, 21, 13, 11,  9, 25, 25,\n",
       "          4,  3,  4,  6,  1, 35,  4,  3,  1, 27, 46,  6,  5, 34,  5,  6,  7,  8,\n",
       "         40,  4, 39,  4, 20,  3,  3,  5,  8, 25, 31, 14, 12, 16,  8, 19,  1,  5,\n",
       "          3, 11, 15, 26,  9, 37, 45,  2, 16, 11,  9,  4, 44,  6, 14, 27,  5,  4,\n",
       "         42, 46, 16, 25, 15, 21,  8,  9,  3,  3,  8,  4,  4, 25, 21, 22,  3, 11,\n",
       "         25,  2, 46,  9, 40, 10, 46, 21,  3, 11,  4, 46, 44, 20, 44, 16, 13,  1,\n",
       "          8,  5,  8,  9, 20, 34,  5,  6, 26,  8, 46,  4,  5,  3, 37, 34,  8,  3,\n",
       "          4, 16, 33, 35, 11, 45, 33, 46, 16,  9,  8, 11, 11, 44, 11,  3,  4, 45,\n",
       "          8, 33, 14, 23, 26, 21, 14,  3, 44,  2, 11, 10, 42,  9,  8,  9,  5, 25,\n",
       "         15, 17, 16, 14,  4, 33, 20,  8, 11,  8,  4, 17,  1, 11, 16, 11,  3, 17,\n",
       "         47, 25,  3,  3, 28, 39,  5, 42, 34, 26, 16, 19, 17, 30,  4, 33, 16, 35,\n",
       "          2,  4,  9, 44, 32, 16, 11, 20, 43, 21, 19, 10, 29, 42, 42, 23,  8, 12,\n",
       "          4, 21, 17,  8,  4,  8,  4,  8, 21,  4,  8,  4,  4,  9, 17, 11, 26, 45,\n",
       "          8, 16,  9,  4, 16, 16, 16,  3, 35,  5, 42,  9, 11, 46,  5, 11,  2, 15,\n",
       "         21,  8, 20, 40, 21, 21, 16,  6, 26,  9, 42, 26, 25, 33, 20,  5, 21, 33,\n",
       "         47, 25,  7,  4,  4, 21]))"
      ]
     },
     "execution_count": 29,
     "metadata": {},
     "output_type": "execute_result"
    }
   ],
   "source": [
    "test_model(model, test_loader, device)"
   ]
  },
  {
   "cell_type": "code",
   "execution_count": null,
   "id": "99af9140-306f-4df5-963c-062217b0d09d",
   "metadata": {},
   "outputs": [],
   "source": []
  }
 ],
 "metadata": {
  "kernelspec": {
   "display_name": "Python 3 (ipykernel)",
   "language": "python",
   "name": "python3"
  },
  "language_info": {
   "codemirror_mode": {
    "name": "ipython",
    "version": 3
   },
   "file_extension": ".py",
   "mimetype": "text/x-python",
   "name": "python",
   "nbconvert_exporter": "python",
   "pygments_lexer": "ipython3",
   "version": "3.11.9"
  }
 },
 "nbformat": 4,
 "nbformat_minor": 5
}
