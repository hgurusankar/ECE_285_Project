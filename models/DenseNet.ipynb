{
 "cells": [
  {
   "cell_type": "code",
   "execution_count": 1,
   "id": "6dddb3d6-eae8-44c7-afb0-602ad37a9a1e",
   "metadata": {},
   "outputs": [],
   "source": [
    "import torch\n",
    "import torch.nn as nn\n",
    "from torch.utils.data import Dataset, DataLoader, random_split\n",
    "import numpy as np\n",
    "import matplotlib.pyplot as plt\n",
    "import torchvision\n",
    "import torch.optim as optim\n",
    "from tqdm import tqdm"
   ]
  },
  {
   "cell_type": "code",
   "execution_count": 2,
   "id": "7a053e78-efc8-4904-b03b-aeae078a401d",
   "metadata": {},
   "outputs": [
    {
     "name": "stdout",
     "output_type": "stream",
     "text": [
      "using device: cuda\n"
     ]
    }
   ],
   "source": [
    "USE_GPU = True\n",
    "\n",
    "if USE_GPU and torch.cuda.is_available():\n",
    "    device = torch.device('cuda')\n",
    "else:\n",
    "    device = torch.device('cpu')\n",
    "\n",
    "print('using device:', device)"
   ]
  },
  {
   "cell_type": "code",
   "execution_count": 3,
   "id": "eba212b5-44f8-4578-a5e8-734fe8d52fda",
   "metadata": {},
   "outputs": [],
   "source": [
    "class VehicleDataset(Dataset):\n",
    "    \n",
    "    def __init__(self, path):\n",
    "        data = np.load(path)\n",
    "        self.images = data[\"images\"]\n",
    "        self.labels = data[\"labels\"]\n",
    "        print(\"Images shape:\", self.images.shape)\n",
    "        print(\"Labels shape:\", self.labels.shape)\n",
    "        self.__combinelabels__()\n",
    "\n",
    "    def __len__(self):\n",
    "        return len(self.images)\n",
    "\n",
    "    def __getitem__(self, idx):\n",
    "        image = self.images[idx]\n",
    "        label = self.labels[idx]\n",
    "\n",
    "        image = torch.tensor(image, dtype=torch.float32).permute(2, 0, 1)\n",
    "        label = torch.tensor(label, dtype=torch.long)\n",
    "\n",
    "        #mean = torch.tensor([0.485, 0.456, 0.406]).view(3, 1, 1)\n",
    "        #std = torch.tensor([0.229, 0.224, 0.225]).view(3, 1, 1)\n",
    "        #image = (image - mean) / std\n",
    "        \n",
    "        return image, label\n",
    "    def __combinelabels__(self):\n",
    "        for idx, label in enumerate(self.labels):\n",
    "            if label == 1:\n",
    "                self.labels[idx] = 1\n",
    "            if label >= 2 and label <= 7:\n",
    "                self.labels[idx] = 2\n",
    "            if label >= 8 and label <= 11:\n",
    "                self.labels[idx] = 3\n",
    "            if label >= 12 and label <= 25:\n",
    "                self.labels[idx] = 4\n",
    "            if label >= 26 and label <= 38:\n",
    "               self.labels[idx] = 5\n",
    "            if label >= 39 and label <= 44:\n",
    "                self.labels[idx] = 6\n",
    "            if label >= 45 and label <= 50:\n",
    "                self.labels[idx] = 7\n",
    "            if label >= 51 and label <= 53:\n",
    "                self.labels[idx] = 8\n",
    "            if label >= 54 and label <= 75:\n",
    "                self.labels[idx] = 9\n",
    "            if label >= 76 and label <= 81:\n",
    "                self.labels[idx] = 10\n",
    "            if label == 82:\n",
    "                self.labels[idx] = 11\n",
    "            if label >= 83 and label <= 97:\n",
    "                self.labels[idx] = 12\n",
    "            if label == 98:\n",
    "                self.labels[idx] = 13\n",
    "            if label >= 99 and label <= 100:\n",
    "                self.labels[idx] = 14\n",
    "            if label >= 101 and label <= 104:\n",
    "                self.labels[idx] = 15\n",
    "            if label == 105:\n",
    "                self.labels[idx] = 16\n",
    "            if label >= 106 and label <= 117:\n",
    "                self.labels[idx] = 17\n",
    "            if label >= 118 and label <= 122:\n",
    "                self.labels[idx] = 18\n",
    "            if label == 123:\n",
    "                self.labels[idx] = 19\n",
    "            if label >= 124 and label <= 125:\n",
    "                self.labels[idx] = 20\n",
    "            if label >= 126 and label <= 129:\n",
    "                self.labels[idx] = 21\n",
    "            if label >= 130 and label <= 140:\n",
    "                self.labels[idx] = 22\n",
    "            if label >= 141 and label <= 142:\n",
    "                self.labels[idx] = 23\n",
    "            if label == 143:\n",
    "                self.labels[idx] = 24\n",
    "            if label == 144:\n",
    "                self.labels[idx] = 25\n",
    "            if label >= 145 and label <= 149:\n",
    "                self.labels[idx] = 26\n",
    "            if label >= 150 and label <= 153:\n",
    "                self.labels[idx] = 27\n",
    "            if label >= 154 and label <= 155:\n",
    "                self.labels[idx] = 28\n",
    "            if label == 156:\n",
    "                self.labels[idx] = 29\n",
    "            if label == 157:\n",
    "                self.labels[idx] = 30\n",
    "            if label == 158:\n",
    "                self.labels[idx] = 31\n",
    "            if label == 159:\n",
    "                self.labels[idx] = 32\n",
    "            if label == 160:\n",
    "                self.labels[idx] = 33\n",
    "            if label >= 161 and label <= 166:\n",
    "                self.labels[idx] = 34\n",
    "            if label == 167:\n",
    "                self.labels[idx] = 35\n",
    "            if label >= 168 and label <= 171:\n",
    "                self.labels[idx] = 36\n",
    "            if label == 172:\n",
    "                self.labels[idx] = 37\n",
    "            if label == 173:\n",
    "                self.labels[idx] = 38\n",
    "            if label == 174:\n",
    "                self.labels[idx] = 39\n",
    "            if label >= 175 and label <= 177:\n",
    "                self.labels[idx] = 40\n",
    "            if label == 178:\n",
    "                self.labels[idx] = 41\n",
    "            if label >= 179 and label <= 180:\n",
    "                self.labels[idx] = 42\n",
    "            if label >= 181 and label <= 184:\n",
    "                self.labels[idx] = 43\n",
    "            if label == 185:\n",
    "                self.labels[idx] = 44\n",
    "            if label >= 186 and label <= 189:\n",
    "                self.labels[idx] = 45\n",
    "            if label >= 190 and label <= 192:\n",
    "                self.labels[idx] = 46\n",
    "            if label >= 193 and label <= 195:\n",
    "                self.labels[idx] = 47\n",
    "            if label == 196:\n",
    "                self.labels[idx] = 48"
   ]
  },
  {
   "cell_type": "code",
   "execution_count": 16,
   "id": "a121fa9b-bb46-4f49-8f10-366bdd9e4229",
   "metadata": {},
   "outputs": [
    {
     "name": "stdout",
     "output_type": "stream",
     "text": [
      "Images shape: (8144, 112, 112, 3)\n",
      "Labels shape: (8144, 1)\n"
     ]
    }
   ],
   "source": [
    "dataset = VehicleDataset('../dataset/stanford_cars_dataset.npz')\n",
    "\n",
    "batch_size = 32\n",
    "train_size = int(0.7 * len(dataset))\n",
    "val_size = int(0.2 * len(dataset))\n",
    "test_size = int(len(dataset) - train_size - val_size)\n",
    "\n",
    "train_dataset, val_dataset, test_dataset = random_split(dataset, [train_size, val_size, test_size])\n",
    "\n",
    "train_loader = DataLoader(train_dataset, batch_size=batch_size, shuffle=True)\n",
    "val_loader = DataLoader(val_dataset, batch_size=batch_size, shuffle=False)\n",
    "test_loader = DataLoader(test_dataset, batch_size=batch_size, shuffle=False)"
   ]
  },
  {
   "cell_type": "code",
   "execution_count": 5,
   "id": "58483923-9e2b-45cc-ba40-6a3bf9c4471d",
   "metadata": {},
   "outputs": [],
   "source": [
    "def train_model(model):\n",
    "    criterion = nn.CrossEntropyLoss()\n",
    "    optimizer = torch.optim.Adam(model.parameters(), lr=1e-4)\n",
    "    # optimizer = torch.optim.SGD(model.parameters(), lr=1e-3, momentum=0.9, weight_decay=1e-4)\n",
    "    scheduler = optim.lr_scheduler.StepLR(optimizer, step_size=10, gamma=0.1)\n",
    "\n",
    "    num_epochs = 30\n",
    "    for epoch in range(num_epochs):\n",
    "        model.train()\n",
    "        running_loss = 0.0\n",
    "        correct = 0\n",
    "        total = 0\n",
    "    \n",
    "        for images, labels in tqdm(train_loader):\n",
    "            images = images.to(device)\n",
    "            labels = labels[:,0].to(device) - 1\n",
    "\n",
    "            # Forward\n",
    "            outputs = model(images)\n",
    "            loss = criterion(outputs, labels)\n",
    "\n",
    "            # Backward\n",
    "            optimizer.zero_grad()\n",
    "            loss.backward()\n",
    "            optimizer.step()\n",
    "\n",
    "            # Metrics\n",
    "            running_loss += loss.item() * images.size(0)\n",
    "            preds = torch.argmax(outputs, dim=1)\n",
    "            correct += (preds == labels).sum().item()\n",
    "            total += labels.size(0)\n",
    "\n",
    "        epoch_loss = running_loss / total\n",
    "        epoch_acc = correct / total\n",
    "        scheduler.step()\n",
    "        print(f\"Epoch {epoch+1}/{num_epochs} - Loss: {epoch_loss:.4f} - Accuracy: {epoch_acc:.4f}\")\n",
    "    \n",
    "        model.eval()\n",
    "        correct = 0\n",
    "        total = 0\n",
    "        with torch.no_grad():\n",
    "            for images, labels in val_loader:\n",
    "                images = images.to(device)\n",
    "                labels = labels[:,0].to(device) - 1\n",
    "            \n",
    "                outputs = model(images)\n",
    "                preds = torch.argmax(outputs, dim=1)\n",
    "                correct += (preds == labels).sum().item()\n",
    "                total += labels.size(0)\n",
    "        val_acc = correct / total\n",
    "        print(f'Validation Acc: {val_acc:.4f}')"
   ]
  },
  {
   "cell_type": "code",
   "execution_count": 6,
   "id": "49440ec0-ce48-4ba3-809e-cb48e8196825",
   "metadata": {},
   "outputs": [],
   "source": [
    "def test_model(model, test_loader, device):\n",
    "    model.eval()  # Set model to evaluation mode\n",
    "    correct = 0\n",
    "    total = 0\n",
    "\n",
    "    all_preds = []\n",
    "    all_labels = []\n",
    "    rmse = 0.0\n",
    "    mae = 0.0\n",
    "\n",
    "    with torch.no_grad():\n",
    "        for images, labels in test_loader:\n",
    "            images = images.to(device)\n",
    "            labels = labels[:,0].to(device) - 1 \n",
    "            \n",
    "            outputs = model(images)\n",
    "            preds = torch.argmax(outputs, dim=1)\n",
    "\n",
    "            correct += (preds == labels).sum().item()\n",
    "            total += labels.size(0)\n",
    "\n",
    "            all_preds.append(preds.cpu())\n",
    "            all_labels.append(labels.cpu())\n",
    "            # print(labels.shape)\n",
    "            # rmse += np.sqrt(np.mean((preds - labels) ** 2)) * images.size(0)\n",
    "            # mae = torch.abs(preds - labels).sum()\n",
    "\n",
    "    accuracy = correct / total\n",
    "\n",
    "    print(f'Test Accuracy: {accuracy:.4f}')\n",
    "    \n",
    "    \n",
    "    all_preds = torch.cat(all_preds)\n",
    "    all_labels = torch.cat(all_labels)\n",
    "    mae = torch.mean(torch.abs(all_preds.float() - all_labels.float())).item()\n",
    "    rmse = torch.sqrt(torch.mean((all_preds.float() - all_labels.float()) ** 2)).item()\n",
    "\n",
    "    print(f'MAE: {mae:.4f}')\n",
    "    print(f'RMSE: {rmse:.4f}')\n",
    "    \n",
    "    return accuracy, all_preds, all_labels"
   ]
  },
  {
   "cell_type": "code",
   "execution_count": 19,
   "id": "ce324c03-72cc-4cab-8f57-10cd6534030f",
   "metadata": {},
   "outputs": [],
   "source": [
    "class DenseLayer(nn.Module):\n",
    "    def __init__(self, in_channels, growth_rate):\n",
    "        super(DenseLayer, self).__init__()\n",
    "        self.bn = nn.BatchNorm2d(in_channels)\n",
    "        self.relu = nn.ReLU(inplace=True)\n",
    "        self.conv = nn.Conv2d(in_channels, growth_rate, kernel_size=3, padding=1, bias=False)\n",
    "\n",
    "    def forward(self, x):\n",
    "        out = self.conv(self.relu(self.bn(x)))\n",
    "        return torch.cat([x, out], 1) \n",
    "\n",
    "class Block(nn.Module):\n",
    "    def __init__(self, num_layers, in_channels, growth_rate=32):\n",
    "        super(Block, self).__init__()\n",
    "        layers = []\n",
    "        for i in range(num_layers):\n",
    "            layers.append(DenseLayer(in_channels + (i * growth_rate), growth_rate))\n",
    "        self.block = nn.Sequential(*layers)\n",
    "\n",
    "    def forward(self, x):\n",
    "        return self.block(x)\n",
    "\n",
    "class Transition(nn.Module):\n",
    "    def __init__(self, in_channels, out_channels):\n",
    "        super(Transition, self).__init__()\n",
    "        self.bn = nn.BatchNorm2d(in_channels)\n",
    "        self.relu = nn.ReLU(inplace=True)\n",
    "        self.conv = nn.Conv2d(in_channels, out_channels, kernel_size=1, bias=False)\n",
    "        self.avgpool = nn.AvgPool2d(2)\n",
    "\n",
    "    def forward(self, x):\n",
    "        x = self.conv(self.relu(self.bn(x)))\n",
    "        return self.avgpool(x)\n",
    "\n",
    "class DenseNet(nn.Module):\n",
    "    def __init__(self, num_classes=96, growth_rate=32):\n",
    "        super(DenseNet, self).__init__()\n",
    "\n",
    "        self.features = nn.Sequential(\n",
    "            nn.Conv2d(3, 64, kernel_size=7, stride=2, padding=3, bias=False),\n",
    "            nn.BatchNorm2d(64),\n",
    "            nn.ReLU(inplace=True),\n",
    "            nn.MaxPool2d(kernel_size=3, stride=2, padding=1),\n",
    "        )\n",
    "\n",
    "        num_features = 64\n",
    "        config_list = [6, 12, 24, 16] \n",
    "\n",
    "        self.dense_blocks = nn.ModuleList()\n",
    "        self.transitions = nn.ModuleList()\n",
    "\n",
    "        for i, num_layers in enumerate(config_list):\n",
    "            block = Block(num_layers, num_features, growth_rate)\n",
    "            self.dense_blocks.append(block)\n",
    "            num_features += num_layers * growth_rate\n",
    "\n",
    "            if i != len(config_list) - 1:\n",
    "                transition = Transition(num_features, num_features // 2)\n",
    "                self.transitions.append(transition)\n",
    "                num_features = num_features // 2\n",
    "\n",
    "        self.bn = nn.BatchNorm2d(num_features)\n",
    "        self.relu = nn.ReLU(inplace=True)\n",
    "        self.avgpool = nn.AdaptiveAvgPool2d((1, 1))\n",
    "        self.fc = nn.Linear(num_features, 48)\n",
    "\n",
    "    def forward(self, x):\n",
    "        x = self.features(x)\n",
    "        for i in range(len(self.dense_blocks)):\n",
    "            x = self.dense_blocks[i](x)\n",
    "            if i < len(self.transitions):\n",
    "                x = self.transitions[i](x)\n",
    "        x = self.avgpool(self.relu(self.bn(x)))\n",
    "        x = torch.flatten(x, 1)\n",
    "        x = self.fc(x)\n",
    "        return x"
   ]
  },
  {
   "cell_type": "code",
   "execution_count": 20,
   "id": "02930de5-f8d3-43e6-a027-36cb8727d4ff",
   "metadata": {},
   "outputs": [
    {
     "name": "stderr",
     "output_type": "stream",
     "text": [
      "100%|██████████| 179/179 [00:13<00:00, 13.49it/s]\n"
     ]
    },
    {
     "name": "stdout",
     "output_type": "stream",
     "text": [
      "Epoch 1/30 - Loss: 3.3976 - Accuracy: 0.1198\n",
      "Validation Acc: 0.1179\n"
     ]
    },
    {
     "name": "stderr",
     "output_type": "stream",
     "text": [
      "100%|██████████| 179/179 [00:13<00:00, 13.41it/s]\n"
     ]
    },
    {
     "name": "stdout",
     "output_type": "stream",
     "text": [
      "Epoch 2/30 - Loss: 3.1424 - Accuracy: 0.1593\n",
      "Validation Acc: 0.1296\n"
     ]
    },
    {
     "name": "stderr",
     "output_type": "stream",
     "text": [
      "100%|██████████| 179/179 [00:13<00:00, 13.11it/s]\n"
     ]
    },
    {
     "name": "stdout",
     "output_type": "stream",
     "text": [
      "Epoch 3/30 - Loss: 2.9872 - Accuracy: 0.1905\n",
      "Validation Acc: 0.1499\n"
     ]
    },
    {
     "name": "stderr",
     "output_type": "stream",
     "text": [
      "100%|██████████| 179/179 [00:13<00:00, 13.62it/s]\n"
     ]
    },
    {
     "name": "stdout",
     "output_type": "stream",
     "text": [
      "Epoch 4/30 - Loss: 2.7791 - Accuracy: 0.2344\n",
      "Validation Acc: 0.1671\n"
     ]
    },
    {
     "name": "stderr",
     "output_type": "stream",
     "text": [
      "100%|██████████| 179/179 [00:13<00:00, 13.43it/s]\n"
     ]
    },
    {
     "name": "stdout",
     "output_type": "stream",
     "text": [
      "Epoch 5/30 - Loss: 2.5896 - Accuracy: 0.2832\n",
      "Validation Acc: 0.1837\n"
     ]
    },
    {
     "name": "stderr",
     "output_type": "stream",
     "text": [
      "100%|██████████| 179/179 [00:13<00:00, 13.04it/s]\n"
     ]
    },
    {
     "name": "stdout",
     "output_type": "stream",
     "text": [
      "Epoch 6/30 - Loss: 2.3478 - Accuracy: 0.3421\n",
      "Validation Acc: 0.1830\n"
     ]
    },
    {
     "name": "stderr",
     "output_type": "stream",
     "text": [
      "100%|██████████| 179/179 [00:13<00:00, 13.55it/s]\n"
     ]
    },
    {
     "name": "stdout",
     "output_type": "stream",
     "text": [
      "Epoch 7/30 - Loss: 2.0708 - Accuracy: 0.4225\n",
      "Validation Acc: 0.1978\n"
     ]
    },
    {
     "name": "stderr",
     "output_type": "stream",
     "text": [
      "100%|██████████| 179/179 [00:13<00:00, 13.19it/s]\n"
     ]
    },
    {
     "name": "stdout",
     "output_type": "stream",
     "text": [
      "Epoch 8/30 - Loss: 1.7595 - Accuracy: 0.5105\n",
      "Validation Acc: 0.2580\n"
     ]
    },
    {
     "name": "stderr",
     "output_type": "stream",
     "text": [
      "100%|██████████| 179/179 [00:13<00:00, 12.97it/s]\n"
     ]
    },
    {
     "name": "stdout",
     "output_type": "stream",
     "text": [
      "Epoch 9/30 - Loss: 1.4554 - Accuracy: 0.6014\n",
      "Validation Acc: 0.2439\n"
     ]
    },
    {
     "name": "stderr",
     "output_type": "stream",
     "text": [
      "100%|██████████| 179/179 [00:14<00:00, 12.02it/s]\n"
     ]
    },
    {
     "name": "stdout",
     "output_type": "stream",
     "text": [
      "Epoch 10/30 - Loss: 1.0831 - Accuracy: 0.7167\n",
      "Validation Acc: 0.2783\n"
     ]
    },
    {
     "name": "stderr",
     "output_type": "stream",
     "text": [
      "100%|██████████| 179/179 [00:15<00:00, 11.77it/s]\n"
     ]
    },
    {
     "name": "stdout",
     "output_type": "stream",
     "text": [
      "Epoch 11/30 - Loss: 0.5643 - Accuracy: 0.8896\n",
      "Validation Acc: 0.3163\n"
     ]
    },
    {
     "name": "stderr",
     "output_type": "stream",
     "text": [
      "100%|██████████| 179/179 [00:14<00:00, 12.50it/s]\n"
     ]
    },
    {
     "name": "stdout",
     "output_type": "stream",
     "text": [
      "Epoch 12/30 - Loss: 0.3905 - Accuracy: 0.9453\n",
      "Validation Acc: 0.3225\n"
     ]
    },
    {
     "name": "stderr",
     "output_type": "stream",
     "text": [
      "100%|██████████| 179/179 [00:15<00:00, 11.93it/s]\n"
     ]
    },
    {
     "name": "stdout",
     "output_type": "stream",
     "text": [
      "Epoch 13/30 - Loss: 0.3243 - Accuracy: 0.9600\n",
      "Validation Acc: 0.3102\n"
     ]
    },
    {
     "name": "stderr",
     "output_type": "stream",
     "text": [
      "100%|██████████| 179/179 [00:16<00:00, 11.01it/s]\n"
     ]
    },
    {
     "name": "stdout",
     "output_type": "stream",
     "text": [
      "Epoch 14/30 - Loss: 0.2685 - Accuracy: 0.9763\n",
      "Validation Acc: 0.3120\n"
     ]
    },
    {
     "name": "stderr",
     "output_type": "stream",
     "text": [
      "100%|██████████| 179/179 [00:15<00:00, 11.52it/s]\n"
     ]
    },
    {
     "name": "stdout",
     "output_type": "stream",
     "text": [
      "Epoch 15/30 - Loss: 0.2293 - Accuracy: 0.9814\n",
      "Validation Acc: 0.3188\n"
     ]
    },
    {
     "name": "stderr",
     "output_type": "stream",
     "text": [
      "100%|██████████| 179/179 [00:14<00:00, 12.32it/s]\n"
     ]
    },
    {
     "name": "stdout",
     "output_type": "stream",
     "text": [
      "Epoch 16/30 - Loss: 0.2002 - Accuracy: 0.9879\n",
      "Validation Acc: 0.3145\n"
     ]
    },
    {
     "name": "stderr",
     "output_type": "stream",
     "text": [
      "100%|██████████| 179/179 [00:16<00:00, 10.77it/s]\n"
     ]
    },
    {
     "name": "stdout",
     "output_type": "stream",
     "text": [
      "Epoch 17/30 - Loss: 0.1774 - Accuracy: 0.9925\n",
      "Validation Acc: 0.3133\n"
     ]
    },
    {
     "name": "stderr",
     "output_type": "stream",
     "text": [
      "100%|██████████| 179/179 [00:14<00:00, 12.15it/s]\n"
     ]
    },
    {
     "name": "stdout",
     "output_type": "stream",
     "text": [
      "Epoch 18/30 - Loss: 0.1460 - Accuracy: 0.9967\n",
      "Validation Acc: 0.3139\n"
     ]
    },
    {
     "name": "stderr",
     "output_type": "stream",
     "text": [
      "100%|██████████| 179/179 [00:14<00:00, 12.61it/s]\n"
     ]
    },
    {
     "name": "stdout",
     "output_type": "stream",
     "text": [
      "Epoch 19/30 - Loss: 0.1249 - Accuracy: 0.9979\n",
      "Validation Acc: 0.3127\n"
     ]
    },
    {
     "name": "stderr",
     "output_type": "stream",
     "text": [
      "100%|██████████| 179/179 [00:14<00:00, 12.00it/s]\n"
     ]
    },
    {
     "name": "stdout",
     "output_type": "stream",
     "text": [
      "Epoch 20/30 - Loss: 0.1126 - Accuracy: 0.9984\n",
      "Validation Acc: 0.3127\n"
     ]
    },
    {
     "name": "stderr",
     "output_type": "stream",
     "text": [
      "100%|██████████| 179/179 [00:14<00:00, 12.17it/s]\n"
     ]
    },
    {
     "name": "stdout",
     "output_type": "stream",
     "text": [
      "Epoch 21/30 - Loss: 0.0963 - Accuracy: 0.9988\n",
      "Validation Acc: 0.3108\n"
     ]
    },
    {
     "name": "stderr",
     "output_type": "stream",
     "text": [
      "100%|██████████| 179/179 [00:16<00:00, 10.72it/s]\n"
     ]
    },
    {
     "name": "stdout",
     "output_type": "stream",
     "text": [
      "Epoch 22/30 - Loss: 0.0944 - Accuracy: 0.9996\n",
      "Validation Acc: 0.3133\n"
     ]
    },
    {
     "name": "stderr",
     "output_type": "stream",
     "text": [
      "100%|██████████| 179/179 [00:14<00:00, 12.65it/s]\n"
     ]
    },
    {
     "name": "stdout",
     "output_type": "stream",
     "text": [
      "Epoch 23/30 - Loss: 0.0896 - Accuracy: 0.9993\n",
      "Validation Acc: 0.3182\n"
     ]
    },
    {
     "name": "stderr",
     "output_type": "stream",
     "text": [
      "100%|██████████| 179/179 [00:13<00:00, 12.80it/s]\n"
     ]
    },
    {
     "name": "stdout",
     "output_type": "stream",
     "text": [
      "Epoch 24/30 - Loss: 0.0888 - Accuracy: 1.0000\n",
      "Validation Acc: 0.3206\n"
     ]
    },
    {
     "name": "stderr",
     "output_type": "stream",
     "text": [
      "100%|██████████| 179/179 [00:13<00:00, 13.33it/s]\n"
     ]
    },
    {
     "name": "stdout",
     "output_type": "stream",
     "text": [
      "Epoch 25/30 - Loss: 0.0861 - Accuracy: 0.9996\n",
      "Validation Acc: 0.3151\n"
     ]
    },
    {
     "name": "stderr",
     "output_type": "stream",
     "text": [
      "100%|██████████| 179/179 [00:14<00:00, 12.68it/s]\n"
     ]
    },
    {
     "name": "stdout",
     "output_type": "stream",
     "text": [
      "Epoch 26/30 - Loss: 0.0847 - Accuracy: 0.9993\n",
      "Validation Acc: 0.3206\n"
     ]
    },
    {
     "name": "stderr",
     "output_type": "stream",
     "text": [
      "100%|██████████| 179/179 [00:13<00:00, 12.85it/s]\n"
     ]
    },
    {
     "name": "stdout",
     "output_type": "stream",
     "text": [
      "Epoch 27/30 - Loss: 0.0855 - Accuracy: 0.9993\n",
      "Validation Acc: 0.3133\n"
     ]
    },
    {
     "name": "stderr",
     "output_type": "stream",
     "text": [
      "100%|██████████| 179/179 [00:15<00:00, 11.30it/s]\n"
     ]
    },
    {
     "name": "stdout",
     "output_type": "stream",
     "text": [
      "Epoch 28/30 - Loss: 0.0826 - Accuracy: 1.0000\n",
      "Validation Acc: 0.3225\n"
     ]
    },
    {
     "name": "stderr",
     "output_type": "stream",
     "text": [
      "100%|██████████| 179/179 [00:15<00:00, 11.61it/s]\n"
     ]
    },
    {
     "name": "stdout",
     "output_type": "stream",
     "text": [
      "Epoch 29/30 - Loss: 0.0811 - Accuracy: 0.9993\n",
      "Validation Acc: 0.3194\n"
     ]
    },
    {
     "name": "stderr",
     "output_type": "stream",
     "text": [
      "100%|██████████| 179/179 [00:14<00:00, 12.40it/s]\n"
     ]
    },
    {
     "name": "stdout",
     "output_type": "stream",
     "text": [
      "Epoch 30/30 - Loss: 0.0797 - Accuracy: 1.0000\n",
      "Validation Acc: 0.3213\n"
     ]
    }
   ],
   "source": [
    "model = DenseNet().to(device)\n",
    "train_model(model)"
   ]
  },
  {
   "cell_type": "code",
   "execution_count": 21,
   "id": "12d0c22b-7c50-413d-8055-0b296db62d7f",
   "metadata": {},
   "outputs": [],
   "source": [
    "torch.save(model.state_dict(), \"DenseNet121\")"
   ]
  },
  {
   "cell_type": "code",
   "execution_count": 22,
   "id": "0febf746-8f06-438a-af89-50512b71c912",
   "metadata": {},
   "outputs": [
    {
     "name": "stdout",
     "output_type": "stream",
     "text": [
      "Test Accuracy: 0.3333\n",
      "MAE: 10.2071\n",
      "RMSE: 15.9313\n"
     ]
    },
    {
     "data": {
      "text/plain": [
       "(0.3333333333333333,\n",
       " tensor([ 8, 35, 21, 16, 21, 16, 11, 16,  8, 25,  7, 16,  8,  3, 17,  8,  4, 11,\n",
       "         45,  6,  3, 20,  2, 42,  6,  5,  8,  5, 16,  3,  1, 16,  6,  2,  5, 11,\n",
       "         11, 11,  8,  1, 26, 21, 21,  8,  2,  8, 27, 21,  4,  5,  9, 25, 11, 11,\n",
       "         19, 14,  5,  8,  8, 11, 25,  2, 11, 45,  8,  4, 21, 44,  6,  4,  3, 14,\n",
       "         11,  0, 20,  4,  4, 23, 46,  4, 17,  8, 14,  8,  3, 35,  9,  4, 21, 28,\n",
       "         19, 11,  4,  8, 16,  4, 21, 21,  6, 11, 24, 32, 42, 33, 45, 27, 17, 20,\n",
       "         26, 16, 39,  8, 35,  8,  8,  9,  4, 44, 19,  8,  3,  8, 16,  8, 33, 11,\n",
       "         16, 20,  4, 20,  3, 25, 11,  8, 35, 11, 14,  6,  1, 16,  4,  1, 16, 16,\n",
       "         24,  8, 22, 11, 26,  3, 35,  8,  8,  5, 39,  3, 21, 16, 11, 11,  0, 11,\n",
       "         33, 11,  6,  5, 37, 26,  3, 17, 35,  3,  8, 33, 35,  8, 46,  8,  6,  4,\n",
       "         46, 39, 27,  5, 37,  3, 16,  6,  4, 26, 33, 25, 25, 11, 16,  4,  8,  5,\n",
       "         42, 27,  8, 11, 45, 25,  7, 44, 42,  6, 11, 20,  4,  4,  6,  6,  3,  9,\n",
       "         39, 35,  4, 11, 20, 11, 14, 39, 33, 20, 18,  5, 17, 17, 45, 44, 46, 46,\n",
       "         35,  9,  4,  3, 16, 46,  3,  8,  1,  8, 45, 44,  2,  1,  2,  3,  5, 45,\n",
       "         25, 14, 11,  3,  3,  3,  4, 21, 11, 14, 21, 42, 11, 33, 25,  2,  4, 25,\n",
       "         35, 35,  4, 11, 33, 11, 14, 33,  8, 11,  6, 41,  4, 14, 11, 11,  4, 21,\n",
       "          4, 19, 33, 21, 16,  3, 21, 11,  8, 21,  6, 11,  8, 20, 16, 11, 26,  3,\n",
       "         16, 16,  8, 21, 21, 21, 20, 40,  2, 14, 11,  8,  8,  8, 46, 21, 35, 25,\n",
       "         16, 28,  2, 46,  3, 11, 26,  9, 26, 14,  8, 26, 16,  8,  8,  6,  5,  3,\n",
       "          8, 11, 39,  8,  4, 27, 16, 26,  4,  3,  3, 33,  1,  4, 25, 17,  4, 21,\n",
       "         46,  3,  5, 39,  8, 13,  6,  1,  8, 42, 21,  8,  4,  3,  4,  4,  8, 33,\n",
       "         11, 20,  3,  0, 25,  8, 13, 46, 21,  3,  4, 21,  3,  8,  3, 21, 26,  8,\n",
       "         39, 39,  8,  8,  5, 16,  4,  6, 37, 21, 16, 13, 21, 46, 46,  2,  8,  6,\n",
       "         11,  3, 11, 16, 21,  3,  6, 14, 14,  3, 35, 33, 46, 45,  7, 33, 33, 21,\n",
       "         11,  4,  3,  8,  8,  4,  8,  2,  4,  3,  3, 13,  3, 35, 21, 27, 33,  2,\n",
       "         11, 41,  4,  6,  4,  8,  3, 33,  9, 26, 11,  8,  4,  7, 21,  6, 20, 33,\n",
       "         46,  3, 11,  8, 35, 11, 27, 39,  8, 16,  8, 32, 39, 21,  8, 16,  4, 21,\n",
       "          9,  9, 16,  3,  4,  8, 25, 26, 44,  8,  8, 11, 16, 11,  6, 42, 32, 44,\n",
       "          8, 16,  9, 37, 46,  8,  3, 45,  2, 41, 11,  4, 26,  4, 21, 46, 34,  4,\n",
       "         21,  4, 11,  4, 35, 11, 11, 11, 35, 35, 11, 20,  4, 33, 20, 17, 26,  5,\n",
       "         11, 33,  2, 11, 31, 16, 19,  8, 44,  7,  4,  4,  7, 25, 42, 16, 46, 14,\n",
       "         11, 21,  5,  9, 21,  8, 21, 26,  2,  3,  4, 35,  3, 21,  3, 21, 34, 11,\n",
       "          8, 33, 21, 42, 16, 33, 16, 11, 11, 15, 11, 16,  1, 25,  4, 11,  3, 14,\n",
       "         44, 16,  6, 13,  8, 34,  8, 35, 35, 21, 25, 11,  8, 21, 26,  7,  3, 16,\n",
       "         33,  5,  8, 17,  6,  9, 16,  9,  4, 10, 17,  4,  1,  9, 16, 16, 16, 14,\n",
       "         46, 21, 27, 42,  3, 11, 16, 16,  1,  4,  1, 42,  2, 21, 17,  3,  4, 44,\n",
       "         21,  2,  3,  1, 25,  8, 11, 43,  8, 35, 11, 25, 21,  4, 33, 11, 39,  8,\n",
       "          1,  3, 16,  3, 26,  8,  8, 41,  4,  8, 44, 27, 47, 25, 17, 45,  2, 26,\n",
       "          8,  8,  9, 21, 35, 12,  4,  4, 11,  3, 46,  3,  3, 16,  3, 38, 42,  8,\n",
       "         21, 46, 46,  9,  3, 16,  1,  8, 14,  8, 21,  8,  4, 14, 26, 26,  8,  4,\n",
       "          1, 16, 25,  4,  9,  3,  6,  8, 16, 11, 16, 16, 33, 14, 11,  8, 10, 21,\n",
       "          9, 35,  1,  6, 45, 11,  8,  8, 33,  6, 46, 45, 26,  8, 26,  4, 14, 11,\n",
       "         21,  3, 16,  3,  3, 12, 42, 20,  8,  5, 42, 45, 25, 25, 21, 21,  3, 20,\n",
       "         35, 35, 21, 27,  1, 46, 21, 11, 19, 26,  8,  4,  6, 16,  1,  8, 11, 45,\n",
       "          8, 19, 36,  4, 11, 41,  8,  4, 35,  5,  9,  3,  8, 11,  8, 31,  9, 21,\n",
       "         25, 11, 11, 22,  8,  6]),\n",
       " tensor([11,  0,  8, 16, 10, 16,  9, 17,  8, 25,  7, 16, 11,  4, 17, 45, 11, 35,\n",
       "         17, 21,  3, 20, 11, 11,  6, 46,  8,  8, 11,  3,  1, 16, 11, 26, 39,  8,\n",
       "         11, 17, 11, 40, 26,  1, 30, 46,  2, 16, 45, 43, 11,  4,  3, 11,  8, 35,\n",
       "         27, 26,  5,  8, 16,  8, 25, 24, 16, 45, 11, 29,  1,  9, 19, 44,  3, 21,\n",
       "          4,  0, 34, 43, 34, 16, 45,  4, 16, 40, 14,  8,  3, 33, 21, 44, 20,  8,\n",
       "          0, 20, 16,  8,  8,  4,  1, 21, 25,  8,  6, 26, 13, 33, 34, 11,  8, 16,\n",
       "         26,  9, 39,  4, 17,  1, 17, 16, 22, 11, 19, 17,  3, 36, 16, 17,  9, 11,\n",
       "         46, 11,  4,  1, 39, 25,  3, 16, 35, 16, 14,  6, 45, 21,  4,  1,  4, 33,\n",
       "          2,  8,  3, 11, 26,  2,  8, 16, 15, 11,  3,  5, 21,  3, 16,  3,  0, 46,\n",
       "         33,  3, 41,  5,  3, 26,  3,  8,  8,  7,  8,  9, 28, 29, 17, 16,  8,  5,\n",
       "         11, 39, 21,  3, 15,  3,  3,  4,  4, 26,  3, 25,  4, 11, 38, 33, 11, 46,\n",
       "         47, 11,  8, 11,  8, 25,  9, 42, 16,  6, 16, 21,  8,  4,  8,  6, 11, 11,\n",
       "         39, 35,  7, 44,  3, 11, 14, 21,  9, 20, 17, 35, 25,  8, 16, 29,  4, 21,\n",
       "          9, 21, 42, 21, 16, 21, 14, 46,  6, 22,  9, 44,  2,  1,  2, 20,  5, 13,\n",
       "         11, 14, 11,  3,  3,  3, 16,  6, 16, 14, 11, 16,  6,  8, 17,  2,  3, 17,\n",
       "         11,  8, 20, 16, 33, 42,  8, 35, 42, 11,  6, 15,  8, 14, 11,  7,  5, 21,\n",
       "          4, 19,  8, 21,  8, 45, 21, 11,  8,  8, 15, 11, 11,  1, 16, 33, 26,  3,\n",
       "         10, 16, 22, 21,  1, 21,  8, 25, 26, 45, 11, 17,  8,  9, 39, 11,  2, 12,\n",
       "         11, 28, 24, 11,  3, 19, 26,  1,  3, 14,  8,  2,  6,  8,  8,  8, 20, 39,\n",
       "          8, 16,  4, 25,  4,  6,  6, 26,  4,  3,  3, 35, 44, 33, 25,  8,  3, 21,\n",
       "         21, 46,  9, 39, 17, 11,  4, 42,  8, 44, 21, 17,  6,  3,  4,  4, 16, 46,\n",
       "          8, 43,  4,  0, 19,  8, 13, 11, 33,  3,  4, 20,  3, 20, 36, 21, 26,  8,\n",
       "         30, 33,  8,  8,  6, 35,  4, 16,  7, 21, 16, 47, 21, 42, 42, 18,  8, 36,\n",
       "          7,  3, 44, 21, 21,  3,  8, 14, 43, 22, 11,  8,  9,  4,  7, 11,  8, 32,\n",
       "         33,  4,  3,  8, 31,  4,  9, 39, 11,  3,  3, 13,  3, 25, 28, 31,  9, 33,\n",
       "         11,  3,  4,  6, 25,  8,  4, 33, 13,  1,  8, 11,  4, 11, 16, 15,  9,  3,\n",
       "         46, 11, 25,  9,  8,  7, 27, 39,  8,  8,  8, 41, 41,  1,  6,  7, 16, 33,\n",
       "         16,  9,  6, 11,  7, 16, 25, 26, 16,  4, 11,  9, 17, 44, 12, 42, 32,  1,\n",
       "          9,  4, 35,  4, 10,  7,  3,  3, 39,  2, 35, 45, 32,  5, 21, 21, 35,  6,\n",
       "         41,  6, 11, 11,  3,  4, 11, 42,  8, 11, 11, 20, 42, 39, 20,  7, 26,  8,\n",
       "         25, 33, 33, 11, 25, 35, 25,  8, 44, 27, 34, 42,  7, 17, 45, 16, 13,  3,\n",
       "         16, 15, 45, 16, 21, 20, 21, 26,  6,  3, 25,  8, 45, 17,  3, 11, 20, 11,\n",
       "          8, 14, 16, 21, 44,  8, 16, 11, 37, 16,  9, 18,  1, 17, 17, 17,  3, 26,\n",
       "         42, 44, 42, 42,  8, 35, 11,  9, 14, 21, 25,  8,  8,  7, 26,  0,  3, 44,\n",
       "         20,  9, 21, 17,  6,  7, 16, 28,  4, 21,  8,  4, 21, 35, 20, 27, 19, 14,\n",
       "         46, 35, 27, 20, 22, 42, 16, 16, 20, 21,  6, 20,  2, 16, 11,  3, 11, 11,\n",
       "          5,  6,  3,  1,  0, 30,  6,  4,  8,  6, 11, 25, 21,  8, 21, 16, 39,  8,\n",
       "          2,  3, 11, 13, 26, 10, 20, 35,  8,  4, 42,  5, 47, 25, 17,  3,  2, 26,\n",
       "         45, 11, 45, 33, 44, 12, 27,  2, 23,  4,  8,  7,  8, 16,  3, 38,  1,  8,\n",
       "          1, 11, 47,  9,  3, 25, 42,  8, 14,  8, 21, 16,  4,  6, 26, 32, 11, 35,\n",
       "         15, 16, 15,  9, 11, 11, 33,  9, 16, 44, 16, 23, 36, 14, 16, 36, 21, 16,\n",
       "         22, 11,  1, 34,  8, 21,  8, 25, 21,  4,  4, 36, 26,  8, 26, 16, 20,  4,\n",
       "         43,  2, 16,  3, 16, 44, 42,  9, 11,  5,  6, 45,  8, 25, 21, 34,  3, 33,\n",
       "         21, 35, 24, 27,  1, 27, 33,  5, 17, 26, 11, 39, 29, 27, 20,  4, 11, 20,\n",
       "         17, 19,  8, 42,  9, 39,  3, 43, 42, 21, 16,  3,  8, 20, 16, 31,  9,  5,\n",
       "         25, 20, 11, 12,  8,  9]))"
      ]
     },
     "execution_count": 22,
     "metadata": {},
     "output_type": "execute_result"
    }
   ],
   "source": [
    "test_model(model, test_loader, device)"
   ]
  },
  {
   "cell_type": "code",
   "execution_count": 7,
   "id": "99af9140-306f-4df5-963c-062217b0d09d",
   "metadata": {},
   "outputs": [
    {
     "name": "stderr",
     "output_type": "stream",
     "text": [
      "/opt/conda/lib/python3.11/site-packages/torchvision/models/_utils.py:208: UserWarning: The parameter 'pretrained' is deprecated since 0.13 and may be removed in the future, please use 'weights' instead.\n",
      "  warnings.warn(\n",
      "/opt/conda/lib/python3.11/site-packages/torchvision/models/_utils.py:223: UserWarning: Arguments other than a weight enum or `None` for 'weights' are deprecated since 0.13 and may be removed in the future. The current behavior is equivalent to passing `weights=DenseNet121_Weights.IMAGENET1K_V1`. You can also use `weights=DenseNet121_Weights.DEFAULT` to get the most up-to-date weights.\n",
      "  warnings.warn(msg)\n",
      "Downloading: \"https://download.pytorch.org/models/densenet121-a639ec97.pth\" to /home/hgurusan/.cache/torch/hub/checkpoints/densenet121-a639ec97.pth\n",
      "100%|██████████| 30.8M/30.8M [00:00<00:00, 114MB/s] \n"
     ]
    }
   ],
   "source": [
    "import torchvision.models as models\n",
    "import torchvision.transforms as transforms\n",
    "\n",
    "model = models.densenet121(pretrained=True)\n",
    "\n",
    "num_features = model.classifier.in_features\n",
    "model.classifier = nn.Linear(num_features, 48)\n",
    "\n",
    "device = torch.device(\"cuda\" if torch.cuda.is_available() else \"cpu\")\n",
    "model = model.to(device)"
   ]
  },
  {
   "cell_type": "code",
   "execution_count": 8,
   "id": "e6e4f437-6181-4e3b-8834-e05bd0212ba9",
   "metadata": {},
   "outputs": [
    {
     "name": "stderr",
     "output_type": "stream",
     "text": [
      "100%|██████████| 179/179 [00:16<00:00, 10.78it/s]\n"
     ]
    },
    {
     "name": "stdout",
     "output_type": "stream",
     "text": [
      "Epoch 1/30 - Loss: 3.1838 - Accuracy: 0.1767\n",
      "Validation Acc: 0.2727\n"
     ]
    },
    {
     "name": "stderr",
     "output_type": "stream",
     "text": [
      "100%|██████████| 179/179 [00:15<00:00, 11.71it/s]\n"
     ]
    },
    {
     "name": "stdout",
     "output_type": "stream",
     "text": [
      "Epoch 2/30 - Loss: 2.0233 - Accuracy: 0.4814\n",
      "Validation Acc: 0.4318\n"
     ]
    },
    {
     "name": "stderr",
     "output_type": "stream",
     "text": [
      "100%|██████████| 179/179 [00:15<00:00, 11.75it/s]\n"
     ]
    },
    {
     "name": "stdout",
     "output_type": "stream",
     "text": [
      "Epoch 3/30 - Loss: 1.2035 - Accuracy: 0.7368\n",
      "Validation Acc: 0.4699\n"
     ]
    },
    {
     "name": "stderr",
     "output_type": "stream",
     "text": [
      "100%|██████████| 179/179 [00:14<00:00, 12.01it/s]\n"
     ]
    },
    {
     "name": "stdout",
     "output_type": "stream",
     "text": [
      "Epoch 4/30 - Loss: 0.6224 - Accuracy: 0.9028\n",
      "Validation Acc: 0.5043\n"
     ]
    },
    {
     "name": "stderr",
     "output_type": "stream",
     "text": [
      "100%|██████████| 179/179 [00:14<00:00, 11.94it/s]\n"
     ]
    },
    {
     "name": "stdout",
     "output_type": "stream",
     "text": [
      "Epoch 5/30 - Loss: 0.2690 - Accuracy: 0.9811\n",
      "Validation Acc: 0.5356\n"
     ]
    },
    {
     "name": "stderr",
     "output_type": "stream",
     "text": [
      "100%|██████████| 179/179 [00:14<00:00, 12.04it/s]\n"
     ]
    },
    {
     "name": "stdout",
     "output_type": "stream",
     "text": [
      "Epoch 6/30 - Loss: 0.1224 - Accuracy: 0.9975\n",
      "Validation Acc: 0.5473\n"
     ]
    },
    {
     "name": "stderr",
     "output_type": "stream",
     "text": [
      "100%|██████████| 179/179 [00:14<00:00, 11.98it/s]\n"
     ]
    },
    {
     "name": "stdout",
     "output_type": "stream",
     "text": [
      "Epoch 7/30 - Loss: 0.0789 - Accuracy: 0.9984\n",
      "Validation Acc: 0.5473\n"
     ]
    },
    {
     "name": "stderr",
     "output_type": "stream",
     "text": [
      "100%|██████████| 179/179 [00:14<00:00, 12.18it/s]\n"
     ]
    },
    {
     "name": "stdout",
     "output_type": "stream",
     "text": [
      "Epoch 8/30 - Loss: 0.0460 - Accuracy: 0.9998\n",
      "Validation Acc: 0.5399\n"
     ]
    },
    {
     "name": "stderr",
     "output_type": "stream",
     "text": [
      "100%|██████████| 179/179 [00:15<00:00, 11.77it/s]\n"
     ]
    },
    {
     "name": "stdout",
     "output_type": "stream",
     "text": [
      "Epoch 9/30 - Loss: 0.0327 - Accuracy: 0.9991\n",
      "Validation Acc: 0.5504\n"
     ]
    },
    {
     "name": "stderr",
     "output_type": "stream",
     "text": [
      "100%|██████████| 179/179 [00:15<00:00, 11.80it/s]\n"
     ]
    },
    {
     "name": "stdout",
     "output_type": "stream",
     "text": [
      "Epoch 10/30 - Loss: 0.0449 - Accuracy: 0.9970\n",
      "Validation Acc: 0.5504\n"
     ]
    },
    {
     "name": "stderr",
     "output_type": "stream",
     "text": [
      "100%|██████████| 179/179 [00:14<00:00, 12.17it/s]\n"
     ]
    },
    {
     "name": "stdout",
     "output_type": "stream",
     "text": [
      "Epoch 11/30 - Loss: 0.0236 - Accuracy: 0.9988\n",
      "Validation Acc: 0.5522\n"
     ]
    },
    {
     "name": "stderr",
     "output_type": "stream",
     "text": [
      "100%|██████████| 179/179 [00:15<00:00, 11.93it/s]\n"
     ]
    },
    {
     "name": "stdout",
     "output_type": "stream",
     "text": [
      "Epoch 12/30 - Loss: 0.0182 - Accuracy: 0.9998\n",
      "Validation Acc: 0.5553\n"
     ]
    },
    {
     "name": "stderr",
     "output_type": "stream",
     "text": [
      "100%|██████████| 179/179 [00:14<00:00, 12.34it/s]\n"
     ]
    },
    {
     "name": "stdout",
     "output_type": "stream",
     "text": [
      "Epoch 13/30 - Loss: 0.0171 - Accuracy: 1.0000\n",
      "Validation Acc: 0.5584\n"
     ]
    },
    {
     "name": "stderr",
     "output_type": "stream",
     "text": [
      "100%|██████████| 179/179 [00:15<00:00, 11.92it/s]\n"
     ]
    },
    {
     "name": "stdout",
     "output_type": "stream",
     "text": [
      "Epoch 14/30 - Loss: 0.0167 - Accuracy: 0.9998\n",
      "Validation Acc: 0.5577\n"
     ]
    },
    {
     "name": "stderr",
     "output_type": "stream",
     "text": [
      "100%|██████████| 179/179 [00:15<00:00, 11.84it/s]\n"
     ]
    },
    {
     "name": "stdout",
     "output_type": "stream",
     "text": [
      "Epoch 15/30 - Loss: 0.0145 - Accuracy: 1.0000\n",
      "Validation Acc: 0.5706\n"
     ]
    },
    {
     "name": "stderr",
     "output_type": "stream",
     "text": [
      "100%|██████████| 179/179 [00:14<00:00, 11.94it/s]\n"
     ]
    },
    {
     "name": "stdout",
     "output_type": "stream",
     "text": [
      "Epoch 16/30 - Loss: 0.0141 - Accuracy: 0.9996\n",
      "Validation Acc: 0.5627\n"
     ]
    },
    {
     "name": "stderr",
     "output_type": "stream",
     "text": [
      "100%|██████████| 179/179 [00:14<00:00, 12.15it/s]\n"
     ]
    },
    {
     "name": "stdout",
     "output_type": "stream",
     "text": [
      "Epoch 17/30 - Loss: 0.0124 - Accuracy: 1.0000\n",
      "Validation Acc: 0.5565\n"
     ]
    },
    {
     "name": "stderr",
     "output_type": "stream",
     "text": [
      "100%|██████████| 179/179 [00:14<00:00, 11.98it/s]\n"
     ]
    },
    {
     "name": "stdout",
     "output_type": "stream",
     "text": [
      "Epoch 18/30 - Loss: 0.0119 - Accuracy: 0.9998\n",
      "Validation Acc: 0.5633\n"
     ]
    },
    {
     "name": "stderr",
     "output_type": "stream",
     "text": [
      "100%|██████████| 179/179 [00:14<00:00, 11.98it/s]\n"
     ]
    },
    {
     "name": "stdout",
     "output_type": "stream",
     "text": [
      "Epoch 19/30 - Loss: 0.0129 - Accuracy: 0.9995\n",
      "Validation Acc: 0.5627\n"
     ]
    },
    {
     "name": "stderr",
     "output_type": "stream",
     "text": [
      "100%|██████████| 179/179 [00:14<00:00, 11.98it/s]\n"
     ]
    },
    {
     "name": "stdout",
     "output_type": "stream",
     "text": [
      "Epoch 20/30 - Loss: 0.0113 - Accuracy: 0.9998\n",
      "Validation Acc: 0.5577\n"
     ]
    },
    {
     "name": "stderr",
     "output_type": "stream",
     "text": [
      "100%|██████████| 179/179 [00:14<00:00, 12.11it/s]\n"
     ]
    },
    {
     "name": "stdout",
     "output_type": "stream",
     "text": [
      "Epoch 21/30 - Loss: 0.0108 - Accuracy: 0.9998\n",
      "Validation Acc: 0.5651\n"
     ]
    },
    {
     "name": "stderr",
     "output_type": "stream",
     "text": [
      "100%|██████████| 179/179 [00:14<00:00, 12.06it/s]\n"
     ]
    },
    {
     "name": "stdout",
     "output_type": "stream",
     "text": [
      "Epoch 22/30 - Loss: 0.0101 - Accuracy: 1.0000\n",
      "Validation Acc: 0.5602\n"
     ]
    },
    {
     "name": "stderr",
     "output_type": "stream",
     "text": [
      "100%|██████████| 179/179 [00:15<00:00, 11.61it/s]\n"
     ]
    },
    {
     "name": "stdout",
     "output_type": "stream",
     "text": [
      "Epoch 23/30 - Loss: 0.0101 - Accuracy: 1.0000\n",
      "Validation Acc: 0.5670\n"
     ]
    },
    {
     "name": "stderr",
     "output_type": "stream",
     "text": [
      "100%|██████████| 179/179 [00:14<00:00, 12.32it/s]\n"
     ]
    },
    {
     "name": "stdout",
     "output_type": "stream",
     "text": [
      "Epoch 24/30 - Loss: 0.0104 - Accuracy: 0.9998\n",
      "Validation Acc: 0.5627\n"
     ]
    },
    {
     "name": "stderr",
     "output_type": "stream",
     "text": [
      "100%|██████████| 179/179 [00:14<00:00, 12.26it/s]\n"
     ]
    },
    {
     "name": "stdout",
     "output_type": "stream",
     "text": [
      "Epoch 25/30 - Loss: 0.0109 - Accuracy: 0.9998\n",
      "Validation Acc: 0.5645\n"
     ]
    },
    {
     "name": "stderr",
     "output_type": "stream",
     "text": [
      "100%|██████████| 179/179 [00:15<00:00, 11.50it/s]\n"
     ]
    },
    {
     "name": "stdout",
     "output_type": "stream",
     "text": [
      "Epoch 26/30 - Loss: 0.0101 - Accuracy: 0.9996\n",
      "Validation Acc: 0.5577\n"
     ]
    },
    {
     "name": "stderr",
     "output_type": "stream",
     "text": [
      "100%|██████████| 179/179 [00:14<00:00, 12.36it/s]\n"
     ]
    },
    {
     "name": "stdout",
     "output_type": "stream",
     "text": [
      "Epoch 27/30 - Loss: 0.0097 - Accuracy: 1.0000\n",
      "Validation Acc: 0.5602\n"
     ]
    },
    {
     "name": "stderr",
     "output_type": "stream",
     "text": [
      "100%|██████████| 179/179 [00:14<00:00, 12.23it/s]\n"
     ]
    },
    {
     "name": "stdout",
     "output_type": "stream",
     "text": [
      "Epoch 28/30 - Loss: 0.0101 - Accuracy: 1.0000\n",
      "Validation Acc: 0.5559\n"
     ]
    },
    {
     "name": "stderr",
     "output_type": "stream",
     "text": [
      "100%|██████████| 179/179 [00:14<00:00, 12.37it/s]\n"
     ]
    },
    {
     "name": "stdout",
     "output_type": "stream",
     "text": [
      "Epoch 29/30 - Loss: 0.0105 - Accuracy: 0.9998\n",
      "Validation Acc: 0.5694\n"
     ]
    },
    {
     "name": "stderr",
     "output_type": "stream",
     "text": [
      "100%|██████████| 179/179 [00:14<00:00, 12.41it/s]\n"
     ]
    },
    {
     "name": "stdout",
     "output_type": "stream",
     "text": [
      "Epoch 30/30 - Loss: 0.0101 - Accuracy: 1.0000\n",
      "Validation Acc: 0.5596\n"
     ]
    }
   ],
   "source": [
    "train_model(model)"
   ]
  },
  {
   "cell_type": "code",
   "execution_count": 9,
   "id": "8527385c-07f8-49ad-9d73-dbfdfac61f67",
   "metadata": {},
   "outputs": [],
   "source": [
    "torch.save(model.state_dict(), \"DenseNet121-Pretrain\")"
   ]
  },
  {
   "cell_type": "code",
   "execution_count": 11,
   "id": "00b37e9b-5fb9-4827-812f-c8ea050129e5",
   "metadata": {},
   "outputs": [
    {
     "name": "stdout",
     "output_type": "stream",
     "text": [
      "Test Accuracy: 0.5931\n",
      "MAE: 6.5074\n",
      "RMSE: 12.6907\n"
     ]
    },
    {
     "data": {
      "text/plain": [
       "(0.5931372549019608,\n",
       " tensor([11, 14,  8, 33, 16, 11,  8,  8,  4, 27, 46, 11,  8,  8, 25, 12, 14, 21,\n",
       "          4, 45, 11, 11,  1, 11,  1,  4,  3, 19,  8,  3,  5,  1, 11,  3,  2,  8,\n",
       "          8,  1,  7, 19, 21, 13,  8,  6,  8, 11, 35, 33, 35, 33, 16,  4,  8, 21,\n",
       "         11,  1, 25, 33,  3,  7,  8, 11,  1,  3, 21,  9, 25,  4,  4, 20, 11,  8,\n",
       "          8,  4, 26,  3, 44,  8,  3, 41,  8,  1, 11, 14, 22, 30, 16,  8,  8,  8,\n",
       "          8, 16, 14, 11, 39,  1, 26, 33,  6,  3,  6, 42,  8, 17, 45, 11, 16, 20,\n",
       "         47, 21,  1,  6,  8, 16,  9, 31, 26,  5, 21, 41,  4,  8, 25,  9, 11,  8,\n",
       "          5, 41,  5,  8, 27,  5,  4,  3,  1, 33, 20, 16,  3, 16,  9, 11,  8,  4,\n",
       "         16, 37,  1, 21, 16, 16,  3,  8, 14,  9, 11,  8, 35, 21,  4, 11,  2,  8,\n",
       "         30,  3, 11, 21, 21, 16, 20,  3,  8,  9,  1, 21, 16,  1,  2,  8, 46,  3,\n",
       "          4, 14,  1, 21,  9, 25, 25, 11,  7, 14,  3,  3, 17,  4,  6, 11, 42, 21,\n",
       "         25, 39, 35, 11,  3, 45, 21, 39, 21, 21, 33,  8, 34, 33, 25, 14, 26, 11,\n",
       "         11,  3, 39,  2, 11,  8, 11, 36, 17, 25, 21,  3, 33,  3, 13,  3, 16,  3,\n",
       "         11, 46,  6, 20,  8,  7,  8,  8, 18, 11,  8, 15,  4, 21,  3, 44,  8,  3,\n",
       "          4, 21,  3, 27, 35,  2,  8, 33,  2, 33,  3, 33, 21,  4,  8, 11,  3,  6,\n",
       "         43,  9, 19,  8, 11,  8, 16, 16,  8, 16, 20, 16,  3,  7,  1,  8, 47, 20,\n",
       "         27,  1,  8, 27, 33, 21,  6,  4, 26, 26, 16,  8, 20,  5, 17, 33,  8, 20,\n",
       "         12,  8,  4, 16,  3,  4, 25, 42,  1, 42, 11, 46,  5,  5, 44,  8, 33,  1,\n",
       "          9, 21, 11, 21,  9, 14,  3,  9, 17,  3, 11,  8, 25, 14, 21, 33, 16, 44,\n",
       "          3, 26,  9,  4,  9, 18, 11, 11, 11,  8,  9, 14, 11, 20,  3, 16, 15, 16,\n",
       "          8,  4, 14,  3, 11, 41,  4, 21,  8, 39, 25,  8,  3, 40, 33, 35, 44,  8,\n",
       "          8, 12, 42, 42,  3, 17, 22, 16,  8,  3,  2, 17, 41,  2,  3, 16,  6,  8,\n",
       "         10,  8, 22, 44, 39,  8,  3,  8, 26, 17, 25,  5,  3, 35,  0, 13, 21, 20,\n",
       "         21,  3,  5,  5, 21,  3, 33,  8,  5, 11, 16, 42, 11,  3, 33, 13,  8, 33,\n",
       "          8,  8,  8,  8,  1,  8,  4, 17, 45, 16, 33,  5, 16, 11,  3,  4, 35,  9,\n",
       "         16, 16, 47,  3, 26,  3, 34, 16, 17,  8, 11,  8, 11, 21, 16,  9,  8, 42,\n",
       "         33, 16, 11, 44,  3,  8, 27, 42, 39,  8, 44,  4, 11,  3,  9, 16,  9,  3,\n",
       "          6, 27,  3, 25,  8, 33,  2, 44,  3, 16, 45, 11, 33, 21, 21,  5, 16,  6,\n",
       "          8, 16,  4, 35, 11, 21,  8,  1, 16,  8,  8, 21, 13, 33,  3,  3,  3,  6,\n",
       "         16, 46,  4,  7, 21,  8,  5, 21, 16,  8,  3,  8, 33,  9, 14,  3, 21,  3,\n",
       "          8, 44, 16,  7,  2, 35,  3, 13, 16,  7,  8,  1, 20,  7,  8, 45,  8,  8,\n",
       "          4,  8, 11,  3, 11, 16,  9,  8, 21,  9, 33, 17, 21,  6, 11, 14,  3,  8,\n",
       "          8, 11,  3,  4,  1, 21,  4,  4,  1,  2,  8,  6, 17, 26, 19, 33,  3, 33,\n",
       "          3, 20,  0, 11, 16,  8,  8,  6, 46, 11,  3, 11,  8,  8, 20,  4,  8,  5,\n",
       "          6,  3, 16,  8,  3, 17,  8, 11, 21, 45, 16,  9,  3, 16, 11, 27, 11,  3,\n",
       "          6,  8,  3,  3,  6, 35, 21, 21,  4,  8,  8, 25,  2,  2, 21, 26, 11, 44,\n",
       "         33,  5,  1, 14,  3, 21, 33, 38, 42, 14, 21, 17,  4, 46,  9, 21,  4,  3,\n",
       "         25, 46,  4, 26,  5, 18,  4, 35,  4, 16, 16, 47,  4,  1, 19, 33, 26, 11,\n",
       "         19, 39,  6,  1, 33,  3, 21,  8, 16, 16, 11, 21,  4, 21,  4, 16,  8,  4,\n",
       "          3, 11,  5,  3,  4,  9,  8, 22, 45, 21, 47, 20, 16, 44,  8,  8, 11,  7,\n",
       "         42, 33, 35, 16,  4, 47,  3, 21,  8,  9,  1,  8, 21, 25,  8, 31,  8,  4,\n",
       "          9,  2,  8,  4, 21,  3, 11,  6, 11,  8, 23, 25, 21,  8, 22,  1, 17, 11,\n",
       "          4,  1,  1,  3,  1, 20,  8,  8, 29, 12, 33,  2,  5, 20,  3,  8, 17, 13,\n",
       "          6, 39, 21, 33, 35, 17,  6,  3, 16, 21, 11, 21, 20, 17,  4,  2,  2,  3,\n",
       "          4, 26,  3,  3,  3, 16,  3, 16,  8, 21,  6, 21,  3,  2, 16, 32, 16,  8,\n",
       "         42, 14, 36, 11, 45,  8]),\n",
       " tensor([23, 12,  9, 11, 16, 17, 21,  8,  4, 27, 21, 35, 46, 44, 25, 12, 33, 24,\n",
       "          4, 35, 11,  5, 21, 11, 12,  4,  3, 19,  8, 16,  5,  1, 11,  3, 26,  8,\n",
       "         41, 44, 27, 19, 44, 13,  8,  6,  8, 11, 21, 33, 36, 44, 16,  4,  8, 21,\n",
       "         11, 18, 25, 11,  3,  7,  3, 11,  8, 42, 21,  5, 25,  4,  3, 27, 11,  8,\n",
       "          8,  4, 14,  3, 25,  8,  3, 41,  8,  1, 11, 14,  1, 30, 20,  8,  8, 33,\n",
       "         25, 16, 14, 11, 39,  7, 26, 46,  6,  3,  6, 14,  8, 17, 45, 11, 16, 20,\n",
       "         20, 21,  1,  5,  8, 33, 21,  6, 26,  0, 42, 41,  4,  8, 25,  4, 46,  8,\n",
       "          5, 26,  5,  8,  9,  5,  1,  3,  1,  1, 16, 46,  3, 45,  9, 11,  8,  4,\n",
       "         16,  5,  1, 44, 16, 11, 16, 11, 41, 38, 11, 24, 35,  9,  6, 11,  2,  7,\n",
       "         30,  3, 17, 42, 21, 16,  8,  5,  2,  9,  1, 21, 16,  1,  2,  8, 45,  3,\n",
       "          9, 41,  1, 21,  6, 25, 31, 11,  8, 24,  3,  3, 33, 42, 35, 16, 42, 21,\n",
       "         25, 39, 33, 11,  3, 40, 21, 39, 24, 21, 41,  8, 16, 33, 19, 14,  3, 16,\n",
       "         11,  3,  7,  2, 23, 28, 23, 36,  7, 25, 44,  3,  1,  3, 13,  8,  8, 33,\n",
       "         11, 10,  6, 20,  8,  7,  8,  8, 18, 11,  8, 15,  4, 16,  8, 44, 17,  3,\n",
       "          4, 20,  3, 27, 44,  5,  8, 33, 14, 33, 33, 38, 21,  3, 16, 16, 26,  6,\n",
       "         43, 35, 19,  8, 11,  3, 16, 19, 16, 23,  3, 20, 45, 22,  1, 33, 47,  1,\n",
       "         27,  8, 11, 27, 33, 42, 41,  4, 26, 26, 16,  8,  3,  5,  7,  3, 17,  6,\n",
       "          4, 21, 43, 16,  3,  4, 25, 13,  1,  8, 11, 46,  5,  3, 16,  8,  3,  1,\n",
       "         29, 16, 11, 21,  9, 14,  3, 22, 27, 46, 11, 35, 25, 32, 21, 33, 16, 34,\n",
       "          2, 47,  9,  8, 16,  8,  9, 11, 11,  8,  9, 14, 11, 20,  3, 13, 47, 31,\n",
       "          8,  4, 14,  3, 11, 41,  4, 21,  8, 39, 25, 11, 37, 42, 33, 16, 44,  8,\n",
       "          8, 12, 21, 20,  3, 16, 13, 16,  8,  3, 43, 17,  6,  2,  3, 17,  6,  8,\n",
       "         10,  8,  4, 44, 41, 17,  3,  8,  8, 17, 25, 30,  3, 35,  0, 42, 21, 20,\n",
       "          8, 33,  5,  5, 21, 35, 33,  8,  5, 11, 21, 42, 11,  3, 16, 13,  8, 33,\n",
       "          6,  8,  8, 16,  1,  8,  4, 16, 37, 16, 33,  5, 36, 11,  3,  3, 35,  9,\n",
       "         16, 17, 13,  3, 26,  3, 34, 31, 17,  8, 11,  8, 35, 21, 16, 27,  8, 20,\n",
       "          3,  2,  9, 35,  3,  8, 27, 21, 29,  8, 40,  4,  9,  3,  9, 16, 22,  3,\n",
       "          6, 31, 16, 25, 41, 33,  2,  9, 37, 20, 45, 33, 21,  9, 21,  5, 16, 42,\n",
       "         11, 16, 32,  8, 11, 16,  8, 24,  8,  8, 16, 21, 33, 33,  3,  3,  3,  6,\n",
       "         16, 46,  4, 17, 17,  1, 33, 21, 16,  8, 33,  8,  3,  9, 14,  3, 21,  3,\n",
       "         33, 44, 11, 39,  2,  4,  3, 13, 16,  7, 33,  1,  6,  8,  8, 13,  8,  8,\n",
       "          3,  8, 11,  3, 11,  7,  9,  8, 21, 12,  4, 17,  8, 45, 11, 14,  3,  8,\n",
       "          8, 23,  3, 26, 45, 21,  4,  4,  1,  2,  8, 39, 17, 26, 19, 33,  4, 18,\n",
       "         46, 20,  0, 11, 16,  8,  8, 45,  3, 11, 33, 11,  8, 44, 42,  4, 16,  5,\n",
       "          6,  3, 16, 16,  2, 17,  8, 11, 13, 45, 46,  9, 33, 16, 11,  9, 11,  3,\n",
       "          6,  8,  3, 16,  6, 46, 21, 33,  4, 46,  8, 25, 24,  2, 20, 26, 45,  6,\n",
       "          3,  5,  1, 26, 46, 21,  3, 38, 13, 14, 44, 11,  4, 46,  9, 20,  4,  9,\n",
       "         25, 46, 10, 26,  5,  5,  4, 35,  4, 16, 16, 47,  4,  1, 19,  4, 26, 11,\n",
       "          0, 39, 41,  1, 33,  3, 21, 16, 11, 16,  6, 21,  4, 21,  3, 17,  8,  4,\n",
       "         13, 11,  5,  3,  4,  6,  8,  8, 45, 21, 47, 20, 16, 44,  8, 11, 25,  3,\n",
       "         13,  7, 35, 16, 12, 47, 25, 46, 17, 33, 34,  6, 21, 25,  8, 31,  8, 33,\n",
       "          8,  2,  8,  1,  6,  3,  4,  6, 11, 11, 23, 25, 21,  8, 22,  1, 17, 11,\n",
       "          4,  1,  1, 33, 35, 20,  8,  8, 29, 12, 33,  2, 39,  4,  3,  8,  9, 13,\n",
       "          6, 39, 35,  3, 42, 17,  8,  3, 16, 21, 16, 33, 44, 17, 11, 24,  2,  3,\n",
       "          9, 26, 11,  3,  3, 17,  3, 16,  8, 21,  4, 21,  3,  2, 11, 32, 16, 16,\n",
       "         21, 14, 36, 34, 45,  8]))"
      ]
     },
     "execution_count": 11,
     "metadata": {},
     "output_type": "execute_result"
    }
   ],
   "source": [
    "test_model(model, test_loader, device)"
   ]
  },
  {
   "cell_type": "code",
   "execution_count": null,
   "id": "05f330b1-826d-4f09-9b4b-db1de4d68fd9",
   "metadata": {},
   "outputs": [],
   "source": []
  }
 ],
 "metadata": {
  "kernelspec": {
   "display_name": "Python 3 (ipykernel)",
   "language": "python",
   "name": "python3"
  },
  "language_info": {
   "codemirror_mode": {
    "name": "ipython",
    "version": 3
   },
   "file_extension": ".py",
   "mimetype": "text/x-python",
   "name": "python",
   "nbconvert_exporter": "python",
   "pygments_lexer": "ipython3",
   "version": "3.11.9"
  }
 },
 "nbformat": 4,
 "nbformat_minor": 5
}
